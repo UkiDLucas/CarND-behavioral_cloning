{
 "cells": [
  {
   "cell_type": "code",
   "execution_count": 4,
   "metadata": {
    "collapsed": false
   },
   "outputs": [
    {
     "name": "stdout",
     "output_type": "stream",
     "text": [
      "-  drive.py\n",
      "-  uki_utils.py\n"
     ]
    }
   ],
   "source": [
    "def find_local_py_scripts():\n",
    "    import os # does not cost if already imported\n",
    "    for entry in os.scandir('.'):\n",
    "        # find files with .py in them\n",
    "        if entry.is_file() and entry.name.endswith(\".py\") :\n",
    "            print(\"- \", entry.name)\n",
    "            \n",
    "# TEST:    \n",
    "find_local_py_scripts()"
   ]
  },
  {
   "cell_type": "code",
   "execution_count": null,
   "metadata": {
    "collapsed": true
   },
   "outputs": [],
   "source": []
  }
 ],
 "metadata": {
  "kernelspec": {
   "display_name": "conda env tensorflow_cpu",
   "language": "python",
   "name": "tensorflow_cpu"
  },
  "language_info": {
   "codemirror_mode": {
    "name": "ipython",
    "version": 3
   },
   "file_extension": ".py",
   "mimetype": "text/x-python",
   "name": "python",
   "nbconvert_exporter": "python",
   "pygments_lexer": "ipython3",
   "version": "3.5.2"
  }
 },
 "nbformat": 4,
 "nbformat_minor": 2
}
