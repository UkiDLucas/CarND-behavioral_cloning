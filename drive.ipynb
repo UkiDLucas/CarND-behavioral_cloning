{
 "cells": [
  {
   "cell_type": "markdown",
   "metadata": {
    "deletable": true,
    "editable": true
   },
   "source": [
    "# How to run the simulator\n",
    "$ python drive.py model.h5"
   ]
  },
  {
   "cell_type": "code",
   "execution_count": 1,
   "metadata": {
    "collapsed": true,
    "deletable": true,
    "editable": true
   },
   "outputs": [],
   "source": [
    "data_dir = \"../../../DATA/behavioral_cloning_data/\"\n",
    "processed_images_dir = \"processed_images_64/\"\n",
    "model_dir = \"../../../DATA/MODELS/\"\n",
    "model_name = \"model_p3_keras_tf_mini_14x64x3__epoch_30_val_acc_0.335463257167.h5\"\n",
    "image_final_width = 64\n",
    "model_path = model_dir + model_name\n",
    "autorun_dir = data_dir + \"autonomous_run/\"\n",
    "sample_autorun_image = \"image_10.302895069122314.jpg\""
   ]
  },
  {
   "cell_type": "code",
   "execution_count": 2,
   "metadata": {
    "collapsed": false,
    "deletable": true,
    "editable": true
   },
   "outputs": [
    {
     "name": "stderr",
     "output_type": "stream",
     "text": [
      "Using TensorFlow backend.\n"
     ]
    }
   ],
   "source": [
    "import argparse\n",
    "import base64\n",
    "import json\n",
    "import numpy as np\n",
    "import time\n",
    "import eventlet\n",
    "import eventlet.wsgi\n",
    "import tensorflow as tf\n",
    "import socketio\n",
    "import matplotlib.pyplot as plt\n",
    "import matplotlib.image as mpimg\n",
    "\n",
    "from PIL import Image\n",
    "from PIL import ImageOps\n",
    "from flask import Flask, render_template\n",
    "from io import BytesIO\n",
    "from keras.models import load_model\n",
    "from keras.preprocessing.image import ImageDataGenerator, array_to_img, img_to_array\n",
    "\n",
    "# if says Using Theano backend.\n",
    "# $ edit ~/.keras/keras.json\n",
    "# change to: \"backend\": \"tensorflow\","
   ]
  },
  {
   "cell_type": "code",
   "execution_count": 3,
   "metadata": {
    "collapsed": false,
    "deletable": true,
    "editable": true
   },
   "outputs": [],
   "source": [
    "# https://github.com/fchollet/keras/issues/3857\n",
    "tf.python.control_flow_ops = tf"
   ]
  },
  {
   "cell_type": "code",
   "execution_count": 4,
   "metadata": {
    "collapsed": true
   },
   "outputs": [],
   "source": [
    "from DataHelper import create_steering_classes\n",
    "steering_classes = create_steering_classes(number_of_classes = 41)"
   ]
  },
  {
   "cell_type": "code",
   "execution_count": 5,
   "metadata": {
    "collapsed": true
   },
   "outputs": [],
   "source": [
    "def load_and_compile_model():\n",
    "    from keras.models import load_model\n",
    "    model = load_model(model_path) # should start at 60% acc.\n",
    "   \n",
    "    optimizer='sgd' # | 'rmsprop'\n",
    "    loss_function=\"mse\" # | 'binary_crossentropy' | 'mse' | mean_squared_error | sparse_categorical_crossentropy\n",
    "    metrics_array=['accuracy'] # , mean_pred, false_rates\n",
    "\n",
    "    model.compile(optimizer, loss_function, metrics_array)\n",
    "    return model\n",
    "    "
   ]
  },
  {
   "cell_type": "markdown",
   "metadata": {},
   "source": [
    "# Test model loading"
   ]
  },
  {
   "cell_type": "code",
   "execution_count": 6,
   "metadata": {
    "collapsed": false
   },
   "outputs": [
    {
     "name": "stdout",
     "output_type": "stream",
     "text": [
      "____________________________________________________________________________________________________\n",
      "Layer (type)                     Output Shape          Param #     Connected to                     \n",
      "====================================================================================================\n",
      "convolution2d_1 (Convolution2D)  (None, 14, 64, 64)    1792        convolution2d_input_1[0][0]      \n",
      "____________________________________________________________________________________________________\n",
      "convolution2d_2 (Convolution2D)  (None, 14, 64, 128)   73856       convolution2d_1[0][0]            \n",
      "____________________________________________________________________________________________________\n",
      "convolution2d_3 (Convolution2D)  (None, 14, 64, 256)   295168      convolution2d_2[0][0]            \n",
      "____________________________________________________________________________________________________\n",
      "flatten_1 (Flatten)              (None, 229376)        0           convolution2d_3[0][0]            \n",
      "____________________________________________________________________________________________________\n",
      "dense_1 (Dense)                  (None, 256)           58720512    flatten_1[0][0]                  \n",
      "____________________________________________________________________________________________________\n",
      "dropout_1 (Dropout)              (None, 256)           0           dense_1[0][0]                    \n",
      "____________________________________________________________________________________________________\n",
      "dense_2 (Dense)                  (None, 256)           65792       dropout_1[0][0]                  \n",
      "____________________________________________________________________________________________________\n",
      "dense_3 (Dense)                  (None, 41)            10537       dense_2[0][0]                    \n",
      "====================================================================================================\n",
      "Total params: 59,167,657\n",
      "Trainable params: 59,167,657\n",
      "Non-trainable params: 0\n",
      "____________________________________________________________________________________________________\n"
     ]
    }
   ],
   "source": [
    "model = load_and_compile_model()\n",
    "model.summary()"
   ]
  },
  {
   "cell_type": "markdown",
   "metadata": {},
   "source": [
    "# Test prediction"
   ]
  },
  {
   "cell_type": "code",
   "execution_count": 7,
   "metadata": {
    "collapsed": false,
    "deletable": true,
    "editable": true
   },
   "outputs": [],
   "source": [
    "def predict_steering(image, old_steering):\n",
    "    image = np.array(image)\n",
    "    image = image[None, :, :] # string indices must be integers\n",
    "    predictions = model.predict(image)\n",
    "    prediction = float(predictions[0][0])\n",
    "    \n",
    "    #print(\"predictions\", predictions)\n",
    "    most_likely = np.argmax(predictions)\n",
    "    #print(\"most_likely\", most_likely)\n",
    "    new_steering_angle = steering_classes[most_likely]\n",
    "    #print(\"new_steering_angle\", new_steering_angle)\n",
    "    return new_steering_angle "
   ]
  },
  {
   "cell_type": "code",
   "execution_count": 8,
   "metadata": {
    "collapsed": false
   },
   "outputs": [
    {
     "name": "stdout",
     "output_type": "stream",
     "text": [
      "image shape (14, 64, 3)\n"
     ]
    },
    {
     "data": {
      "image/png": "[encoded data removed]",
      "text/plain": [
       "<matplotlib.figure.Figure at 0x11c04dac8>"
      ]
     },
     "metadata": {},
     "output_type": "display_data"
    },
    {
     "name": "stdout",
     "output_type": "stream",
     "text": [
      "new_steering_angle -0.05\n"
     ]
    }
   ],
   "source": [
    "from DataHelper import load_image\n",
    "image_path = autorun_dir + sample_autorun_image\n",
    "image = np.array(load_image(image_path))\n",
    "print(\"image shape\", image.shape)\n",
    "plt.imshow(image)\n",
    "plt.show()\n",
    "\n",
    "new_steering_angle = predict_steering(image, 0.0)\n",
    "print(\"new_steering_angle\", new_steering_angle)"
   ]
  },
  {
   "cell_type": "code",
   "execution_count": null,
   "metadata": {
    "collapsed": false
   },
   "outputs": [],
   "source": []
  },
  {
   "cell_type": "code",
   "execution_count": 9,
   "metadata": {
    "collapsed": false,
    "deletable": true,
    "editable": true
   },
   "outputs": [],
   "source": [
    "def preprocess_image(image_string, elapsed_seconds):   \n",
    "    \n",
    "    from scipy.misc import imsave\n",
    "    from ImageHelper import preprocessing_pipline\n",
    "    \n",
    "    image_jpg = Image.open(BytesIO(base64.b64decode(image_string)))\n",
    "    image_array = preprocessing_pipline(image_jpg, final_size=image_final_width, should_plot=False)\n",
    "    \n",
    "    # SAVE ONLY to review that pre-processing worked\n",
    "    # imsave(data_dir + \"autonomous_run/image_\" + str(elapsed_seconds) + \".jpg\", image_array)\n",
    "    return image_array"
   ]
  },
  {
   "cell_type": "code",
   "execution_count": 10,
   "metadata": {
    "collapsed": false,
    "deletable": true,
    "editable": true
   },
   "outputs": [],
   "source": [
    "sio = socketio.Server()\n",
    "app = Flask(__name__)\n",
    "model = None\n",
    "prev_image_array = None"
   ]
  },
  {
   "cell_type": "code",
   "execution_count": 11,
   "metadata": {
    "collapsed": false,
    "deletable": true,
    "editable": true
   },
   "outputs": [],
   "source": [
    "t0 = time.time()\n",
    "\n",
    "@sio.on('telemetry')\n",
    "def telemetry(sid, data):\n",
    "    with open(\"output.txt\", \"a\") as myfile:\n",
    "        elapsed_seconds = time.time()-t0\n",
    "        \n",
    "        # The current steering angle of the car\n",
    "        steering_angle = data[\"steering_angle\"]\n",
    "        \n",
    "        # The current throttle of the car\n",
    "        throttle = data[\"throttle\"]\n",
    "        \n",
    "        # The current speed of the car\n",
    "        speed = data[\"speed\"]\n",
    "\n",
    "        # The current image from the center camera of the car\n",
    "        image = preprocess_image(data[\"image\"], elapsed_seconds)\n",
    "\n",
    "        new_steering_angle = predict_steering(image, steering_angle)\n",
    "        new_throttle = 0.3\n",
    "        \n",
    "        output = []\n",
    "        output.append(str(round(float(elapsed_seconds),2)) + \"\\t\")\n",
    "        output.append(str(round(float(speed),2)) + \"\\t\")\n",
    "        output.append(str(round(float(steering_angle),2)) +\"->\")\n",
    "        output.append(str(round(float(new_steering_angle),2)) +\"\\t\" )\n",
    "        output.append(str(round(float(throttle),2)) +\"->\" )\n",
    "        output.append(str(round(float(new_throttle),2)) + \"\\n\" )\n",
    "        output_text = ''.join(output)\n",
    "        myfile.write(output_text)\n",
    "        #print(output_text)\n",
    "        \n",
    "        send_control(new_steering_angle, new_throttle)\n",
    "\n",
    "# $ tail -f ~/dev/carnd/p3_behavioral_cloning/behavioral_cloning_UkiDLucas/output.txt "
   ]
  },
  {
   "cell_type": "code",
   "execution_count": 12,
   "metadata": {
    "collapsed": false,
    "deletable": true,
    "editable": true
   },
   "outputs": [],
   "source": [
    "@sio.on('connect')\n",
    "def connect(sid, environ):\n",
    "    print(\"connect \", sid)\n",
    "    send_control(0, 0)"
   ]
  },
  {
   "cell_type": "code",
   "execution_count": null,
   "metadata": {
    "collapsed": true,
    "deletable": true,
    "editable": true
   },
   "outputs": [],
   "source": [
    "def send_control(steering_angle=0.0, throttle=0.2):\n",
    "    sio.emit(\"steer\", data={\n",
    "    'steering_angle': steering_angle.__str__(),\n",
    "    'throttle': throttle.__str__()\n",
    "    }, skip_sid=True)"
   ]
  },
  {
   "cell_type": "code",
   "execution_count": null,
   "metadata": {
    "collapsed": false,
    "deletable": true,
    "editable": true
   },
   "outputs": [
    {
     "name": "stderr",
     "output_type": "stream",
     "text": [
      "(93233) wsgi starting up on http://0.0.0.0:4567\n",
      "(93233) accepted ('127.0.0.1', 54276)\n"
     ]
    },
    {
     "name": "stdout",
     "output_type": "stream",
     "text": [
      "connect  1854c4cbc1b34696b2c82a14fa235e0f\n"
     ]
    },
    {
     "name": "stderr",
     "output_type": "stream",
     "text": [
      "/Users/ukilucas/dev/carnd/p3_behavioral_cloning/p3_UkiDLucas/ImageHelper.py:284: RuntimeWarning: divide by zero encountered in int_scalars\n",
      "  slope = rise/run\n"
     ]
    }
   ],
   "source": [
    "if __name__ == '__main__':\n",
    "    #parser = argparse.ArgumentParser(description='Remote Driving')\n",
    "    #parser.add_argument('model', type=str,\n",
    "    #help='Path to model definition h5. Model should be on the same path.')\n",
    "    #args = parser.parse_args()\n",
    "\n",
    "    #model = load_model(args.model)\n",
    "    model = load_and_compile_model()\n",
    "    \n",
    "    \n",
    "    # wrap Flask application with engineio's middleware\n",
    "    app = socketio.Middleware(sio, app)\n",
    "\n",
    "    # deploy as an eventlet WSGI server\n",
    "    eventlet.wsgi.server(eventlet.listen(('', 4567)), app)"
   ]
  },
  {
   "cell_type": "raw",
   "metadata": {
    "collapsed": true,
    "deletable": true,
    "editable": true
   },
   "source": [
    "  parser = argparse.ArgumentParser(description='Remote Driving')\n",
    "    parser.add_argument('model', type=str,\n",
    "    help='Path to model definition json. Model weights should be on the same path.')\n",
    "    args = parser.parse_args()\n",
    "    with open(args.model, 'r') as jfile:\n",
    "        model = model_from_json(jfile.read())\n",
    "\n",
    "\n",
    "    model.compile(\"adam\", \"mse\")\n",
    "    weights_file = args.model.replace('json', 'h5')\n",
    "    model.load_weights(weights_file)"
   ]
  }
 ],
 "metadata": {
  "kernelspec": {
   "display_name": "conda env carnd-term1",
   "language": "python",
   "name": "carnd-term1"
  },
  "language_info": {
   "codemirror_mode": {
    "name": "ipython",
    "version": 3
   },
   "file_extension": ".py",
   "mimetype": "text/x-python",
   "name": "python",
   "nbconvert_exporter": "python",
   "pygments_lexer": "ipython3",
   "version": "3.5.2"
  },
  "widgets": {
   "state": {},
   "version": "1.1.2"
  }
 },
 "nbformat": 4,
 "nbformat_minor": 2
}
