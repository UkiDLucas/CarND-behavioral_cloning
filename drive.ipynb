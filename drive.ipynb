{
 "cells": [
  {
   "cell_type": "markdown",
   "metadata": {
    "deletable": true,
    "editable": true
   },
   "source": [
    "# How to run the simulator\n",
    "$ python drive.py model.h5"
   ]
  },
  {
   "cell_type": "code",
   "execution_count": null,
   "metadata": {
    "collapsed": true,
    "deletable": true,
    "editable": true
   },
   "outputs": [],
   "source": [
    "data_dir = \"../../../DATA/behavioral_cloning_data/\""
   ]
  },
  {
   "cell_type": "code",
   "execution_count": null,
   "metadata": {
    "collapsed": false,
    "deletable": true,
    "editable": true
   },
   "outputs": [],
   "source": [
    "import argparse\n",
    "import base64\n",
    "import json\n",
    "import numpy as np\n",
    "import time\n",
    "import eventlet\n",
    "import eventlet.wsgi\n",
    "import tensorflow as tf\n",
    "import socketio\n",
    "import matplotlib.pyplot as plt\n",
    "import matplotlib.image as mpimg\n",
    "\n",
    "from PIL import Image\n",
    "from PIL import ImageOps\n",
    "from flask import Flask, render_template\n",
    "from io import BytesIO\n",
    "from keras.models import load_model\n",
    "from keras.preprocessing.image import ImageDataGenerator, array_to_img, img_to_array\n",
    "\n",
    "# if says Using Theano backend.\n",
    "# $ edit ~/.keras/keras.json\n",
    "# change to: \"backend\": \"tensorflow\","
   ]
  },
  {
   "cell_type": "code",
   "execution_count": null,
   "metadata": {
    "collapsed": false,
    "deletable": true,
    "editable": true
   },
   "outputs": [],
   "source": [
    "# https://github.com/fchollet/keras/issues/3857\n",
    "tf.python.control_flow_ops = tf"
   ]
  },
  {
   "cell_type": "code",
   "execution_count": null,
   "metadata": {
    "collapsed": false,
    "deletable": true,
    "editable": true
   },
   "outputs": [],
   "source": [
    "def preprocess_image(image_string, elapsed_seconds):   \n",
    "    \n",
    "    from scipy.misc import imsave\n",
    "    from ImageHelper import preprocessing_pipline\n",
    "    \n",
    "    # img=mpimg.imread(imgString)\n",
    "    image_jpg = Image.open(BytesIO(base64.b64decode(image_string)))\n",
    "    #image_array = np.asarray(image_jpg)\n",
    "    image_array = preprocessing_pipline(image_jpg, final_size=64, should_plot=False)\n",
    "    \n",
    "    # saving only to review that pre-processing worked\n",
    "    #imsave(data_dir + \"autonomous_run/image_\" + str(elapsed_seconds) + \".jpg\", image_array)\n",
    "    \n",
    "    from DataHelper import normalize_grayscale\n",
    "    image_array = normalize_grayscale(image_array)\n",
    "    \n",
    "    #plt.imshow(image_array, cmap='gray')\n",
    "    #plt.show()\n",
    "    return image_array"
   ]
  },
  {
   "cell_type": "code",
   "execution_count": null,
   "metadata": {
    "collapsed": true,
    "deletable": true,
    "editable": true
   },
   "outputs": [],
   "source": [
    "\n",
    "#    model = VGG_16('vgg16_weights.h5')\n",
    "#   sgd = SGD(lr=0.1, decay=1e-6, momentum=0.9, nesterov=True)\n",
    "#    model.compile(optimizer=sgd, loss='categorical_crossentropy')\n",
    "#    out = model.predict(im)\n",
    "#    print np.argmax(out)"
   ]
  },
  {
   "cell_type": "code",
   "execution_count": null,
   "metadata": {
    "collapsed": false,
    "deletable": true,
    "editable": true
   },
   "outputs": [],
   "source": [
    "sio = socketio.Server()\n",
    "app = Flask(__name__)\n",
    "model = None\n",
    "prev_image_array = None"
   ]
  },
  {
   "cell_type": "code",
   "execution_count": null,
   "metadata": {
    "collapsed": false,
    "deletable": true,
    "editable": true
   },
   "outputs": [],
   "source": [
    "t0 = time.time()\n",
    "\n",
    "@sio.on('telemetry')\n",
    "def telemetry(sid, data):\n",
    "    with open(\"output.txt\", \"a\") as myfile:\n",
    "        elapsed_seconds = time.time()-t0\n",
    "        \n",
    "        # The current steering angle of the car\n",
    "        steering_angle = data[\"steering_angle\"]\n",
    "        \n",
    "        # The current throttle of the car\n",
    "        throttle = data[\"throttle\"]\n",
    "        \n",
    "        # The current speed of the car\n",
    "        speed = data[\"speed\"]\n",
    "\n",
    "        # The current image from the center camera of the car\n",
    "        image = preprocess_image(data[\"image\"], elapsed_seconds)\n",
    "\n",
    "        new_steering_angle = predict_steering(image, steering_angle)\n",
    "        new_throttle = 0.1\n",
    "        \n",
    "        output = []\n",
    "        output.append(str(round(float(elapsed_seconds),2)) + \"\\t\")\n",
    "        output.append(str(round(float(speed),2)) + \"\\t\")\n",
    "        output.append(str(round(float(steering_angle),2)) +\"->\")\n",
    "        output.append(str(round(float(new_steering_angle),2)) +\"\\t\" )\n",
    "        output.append(str(round(float(throttle),2)) +\"->\" )\n",
    "        output.append(str(round(float(new_throttle),2)) + \"\\n\" )\n",
    "        output_text = ''.join(output)\n",
    "        myfile.write(output_text)\n",
    "        #print(output_text)\n",
    "        \n",
    "        send_control(new_steering_angle, new_throttle)\n",
    "\n",
    "# $ tail -f ~/dev/carnd/p3_behavioral_cloning/behavioral_cloning_UkiDLucas/output.txt "
   ]
  },
  {
   "cell_type": "code",
   "execution_count": null,
   "metadata": {
    "collapsed": false,
    "deletable": true,
    "editable": true
   },
   "outputs": [],
   "source": [
    "@sio.on('connect')\n",
    "def connect(sid, environ):\n",
    "    print(\"connect \", sid)\n",
    "    send_control(0, 0)"
   ]
  },
  {
   "cell_type": "code",
   "execution_count": null,
   "metadata": {
    "collapsed": true,
    "deletable": true,
    "editable": true
   },
   "outputs": [],
   "source": [
    "def send_control(steering_angle=0.0, throttle=0.2):\n",
    "    sio.emit(\"steer\", data={\n",
    "    'steering_angle': steering_angle.__str__(),\n",
    "    'throttle': throttle.__str__()\n",
    "    }, skip_sid=True)"
   ]
  },
  {
   "cell_type": "code",
   "execution_count": null,
   "metadata": {
    "collapsed": false,
    "deletable": true,
    "editable": true
   },
   "outputs": [],
   "source": [
    "def predict_steering(image, old_steering):\n",
    "    new_steering = -0.01\n",
    "    print(\"predict_steering start\")\n",
    "    #image = image[None, :, :, :] # transform image ???\n",
    "    #new_steering = float(model.predict(image)) \n",
    "    print(\"prediction\", np.argmax(new_steering) )\n",
    "    return new_steering"
   ]
  },
  {
   "cell_type": "code",
   "execution_count": null,
   "metadata": {
    "collapsed": false,
    "deletable": true,
    "editable": true
   },
   "outputs": [],
   "source": [
    "if __name__ == '__main__':\n",
    "    #parser = argparse.ArgumentParser(description='Remote Driving')\n",
    "    #parser.add_argument('model', type=str,\n",
    "    #help='Path to model definition h5. Model should be on the same path.')\n",
    "    #args = parser.parse_args()\n",
    "\n",
    "    #model = load_model(args.model)\n",
    "    \n",
    "    from keras.models import load_model\n",
    "    model = load_model('model.h5') # should start at 60% acc.\n",
    "    optimizer='sgd' # | 'rmsprop'\n",
    "    loss_function='mean_squared_error' # | 'binary_crossentropy' | 'mse'\n",
    "    metrics_array=['accuracy'] # , mean_pred, false_rates\n",
    "    model.compile(optimizer, loss_function, metrics_array)\n",
    "    #model.summary()\n",
    "    \n",
    "    # wrap Flask application with engineio's middleware\n",
    "    app = socketio.Middleware(sio, app)\n",
    "\n",
    "    # deploy as an eventlet WSGI server\n",
    "    eventlet.wsgi.server(eventlet.listen(('', 4567)), app)"
   ]
  },
  {
   "cell_type": "raw",
   "metadata": {
    "collapsed": true,
    "deletable": true,
    "editable": true
   },
   "source": [
    "  parser = argparse.ArgumentParser(description='Remote Driving')\n",
    "    parser.add_argument('model', type=str,\n",
    "    help='Path to model definition json. Model weights should be on the same path.')\n",
    "    args = parser.parse_args()\n",
    "    with open(args.model, 'r') as jfile:\n",
    "        model = model_from_json(jfile.read())\n",
    "\n",
    "\n",
    "    model.compile(\"adam\", \"mse\")\n",
    "    weights_file = args.model.replace('json', 'h5')\n",
    "    model.load_weights(weights_file)"
   ]
  }
 ],
 "metadata": {
  "kernelspec": {
   "display_name": "conda env carnd-term1",
   "language": "python",
   "name": "carnd-term1"
  },
  "language_info": {
   "codemirror_mode": {
    "name": "ipython",
    "version": 3
   },
   "file_extension": ".py",
   "mimetype": "text/x-python",
   "name": "python",
   "nbconvert_exporter": "python",
   "pygments_lexer": "ipython3",
   "version": "3.5.2"
  },
  "widgets": {
   "state": {},
   "version": "1.1.2"
  }
 },
 "nbformat": 4,
 "nbformat_minor": 2
}
