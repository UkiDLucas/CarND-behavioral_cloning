{
 "cells": [
  {
   "cell_type": "markdown",
   "metadata": {},
   "source": [
    "# Install dependencies\n",
    "$ conda install -c conda-forge opencv\n",
    "$ conda install -c conda-forge Pillow\n",
    "$ conda install flask\n",
    "$ conda install -c conda-forge numpy\n",
    "$ conda install -c conda-forge flask-socketio\n",
    "$ conda install -c conda-forge eventlet\n",
    "$ conda install -c conda-forge keras"
   ]
  },
  {
   "cell_type": "code",
   "execution_count": 1,
   "metadata": {
    "collapsed": false
   },
   "outputs": [
    {
     "name": "stderr",
     "output_type": "stream",
     "text": [
      "Using Theano backend.\n"
     ]
    }
   ],
   "source": [
    "import argparse\n",
    "import base64\n",
    "import json\n",
    "import numpy as np\n",
    "import time\n",
    "from PIL import Image\n",
    "from PIL import ImageOps\n",
    "from flask import Flask, render_template\n",
    "from io import BytesIO\n",
    "\n",
    "# Switch Keras to TensorFlow\n",
    "import tensorflow as tf\n",
    "tf.python.control_flow_ops = tf\n",
    "\n",
    "from keras.models import load_model\n",
    "from keras.preprocessing.image import ImageDataGenerator, array_to_img, img_to_array"
   ]
  },
  {
   "cell_type": "code",
   "execution_count": 2,
   "metadata": {
    "collapsed": false
   },
   "outputs": [
    {
     "ename": "ImportError",
     "evalue": "No module named 'eventlet'",
     "output_type": "error",
     "traceback": [
      "\u001b[0;31m---------------------------------------------------------------------------\u001b[0m",
      "\u001b[0;31mImportError\u001b[0m                               Traceback (most recent call last)",
      "\u001b[0;32m<ipython-input-2-b35f50f0ce91>\u001b[0m in \u001b[0;36m<module>\u001b[0;34m()\u001b[0m\n\u001b[1;32m      1\u001b[0m \u001b[0;31m# $ conda install eventlet\u001b[0m\u001b[0;34m\u001b[0m\u001b[0;34m\u001b[0m\u001b[0m\n\u001b[0;32m----> 2\u001b[0;31m \u001b[0;32mimport\u001b[0m \u001b[0meventlet\u001b[0m\u001b[0;34m\u001b[0m\u001b[0m\n\u001b[0m\u001b[1;32m      3\u001b[0m \u001b[0;32mimport\u001b[0m \u001b[0meventlet\u001b[0m\u001b[0;34m.\u001b[0m\u001b[0mwsgi\u001b[0m\u001b[0;34m\u001b[0m\u001b[0m\n",
      "\u001b[0;31mImportError\u001b[0m: No module named 'eventlet'"
     ]
    }
   ],
   "source": [
    "# $ conda install eventlet\n",
    "import eventlet\n",
    "import eventlet.wsgi"
   ]
  },
  {
   "cell_type": "code",
   "execution_count": null,
   "metadata": {
    "collapsed": false
   },
   "outputs": [],
   "source": [
    "#$ anaconda search -t conda socketio\n",
    "import socketio"
   ]
  },
  {
   "cell_type": "code",
   "execution_count": null,
   "metadata": {
    "collapsed": true
   },
   "outputs": [],
   "source": [
    "sio = socketio.Server()\n",
    "app = Flask(__name__)\n",
    "model = None\n",
    "prev_image_array = None\n",
    "\n",
    "@sio.on('telemetry')\n",
    "def telemetry(sid, data):\n",
    "    # The current steering angle of the car\n",
    "    steering_angle = data[\"steering_angle\"]\n",
    "    # The current throttle of the car\n",
    "    throttle = data[\"throttle\"]\n",
    "    # The current speed of the car\n",
    "    speed = data[\"speed\"]\n",
    "    # The current image from the center camera of the car\n",
    "    imgString = data[\"image\"]\n",
    "    image = Image.open(BytesIO(base64.b64decode(imgString)))\n",
    "    image_array = np.asarray(image)\n",
    "    transformed_image_array = image_array[None, :, :, :]\n",
    "    # This model currently assumes that the features of the model are just the images. Feel free to change this.\n",
    "    steering_angle = float(model.predict(transformed_image_array, batch_size=1))\n",
    "    # The driving model currently just outputs a constant throttle. Feel free to edit this.\n",
    "    throttle = 0.2\n",
    "    print(steering_angle, throttle)\n",
    "    send_control(steering_angle, throttle)\n",
    "\n",
    "\n"
   ]
  },
  {
   "cell_type": "code",
   "execution_count": null,
   "metadata": {
    "collapsed": true
   },
   "outputs": [],
   "source": [
    "@sio.on('connect')\n",
    "def connect(sid, environ):\n",
    "    print(\"connect \", sid)\n",
    "    send_control(0, 0)\n",
    "\n",
    "\n",
    "def send_control(steering_angle, throttle):\n",
    "    sio.emit(\"steer\", data={\n",
    "    'steering_angle': steering_angle.__str__(),\n",
    "    'throttle': throttle.__str__()\n",
    "    }, skip_sid=True)\n",
    "\n",
    "\n",
    "if __name__ == '__main__':\n",
    "    parser = argparse.ArgumentParser(description='Remote Driving')\n",
    "    parser.add_argument('model', type=str,\n",
    "    help='Path to model definition h5. Model should be on the same path.')\n",
    "    args = parser.parse_args()\n",
    "\n",
    "    model = load_model(args.model)\n",
    "\n",
    "    # wrap Flask application with engineio's middleware\n",
    "    app = socketio.Middleware(sio, app)\n",
    "\n",
    "    # deploy as an eventlet WSGI server\n",
    "    eventlet.wsgi.server(eventlet.listen(('', 4567)), app)\n",
    "Server\n",
    "computing A program that provides services to other programs or users, either in the same computer or over a computer network.\n",
    "computing A computer dedicated to running such programs.\n",
    "One who serves; a waitress or waiter."
   ]
  }
 ],
 "metadata": {
  "kernelspec": {
   "display_name": "conda env tensorflow_cpu",
   "language": "python",
   "name": "tensorflow_cpu"
  },
  "language_info": {
   "codemirror_mode": {
    "name": "ipython",
    "version": 3
   },
   "file_extension": ".py",
   "mimetype": "text/x-python",
   "name": "python",
   "nbconvert_exporter": "python",
   "pygments_lexer": "ipython3",
   "version": "3.5.2"
  }
 },
 "nbformat": 4,
 "nbformat_minor": 2
}
