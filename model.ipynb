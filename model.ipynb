{
 "cells": [
  {
   "cell_type": "markdown",
   "metadata": {
    "deletable": true,
    "editable": true
   },
   "source": [
    "# model\n",
    "\n",
    "Please refer to README file for project overview."
   ]
  },
  {
   "cell_type": "code",
   "execution_count": 1,
   "metadata": {
    "collapsed": true,
    "deletable": true,
    "editable": true
   },
   "outputs": [],
   "source": [
    "data_dir = \"../../../DATA/behavioral_cloning_data/\"\n",
    "processed_images_dir = \"processed_images_64/\"\n",
    "image_final_width = 64\n",
    "model_name = \"model_p3_keras_tf_vgg_16_224x224x3a_\"\n",
    "nb_epoch = 1\n",
    "batch_size = 256"
   ]
  },
  {
   "cell_type": "code",
   "execution_count": 2,
   "metadata": {
    "collapsed": true,
    "deletable": true,
    "editable": true
   },
   "outputs": [],
   "source": [
    "import matplotlib.image as mpimg\n",
    "from scipy import misc\n",
    "import matplotlib.pyplot as plt\n",
    "import cv2"
   ]
  },
  {
   "cell_type": "code",
   "execution_count": 3,
   "metadata": {
    "collapsed": false,
    "deletable": true,
    "editable": true
   },
   "outputs": [
    {
     "name": "stderr",
     "output_type": "stream",
     "text": [
      "Using TensorFlow backend.\n"
     ]
    },
    {
     "name": "stdout",
     "output_type": "stream",
     "text": [
      "imported rows 8037\n"
     ]
    }
   ],
   "source": [
    "import DataHelper\n",
    "#print(DataHelper.__doc__)\n",
    "from DataHelper import test_read_csv, read_csv\n",
    "#print(read_csv.__doc__)\n",
    "#test_read_csv()\n",
    "# fetch actual log of driving data\n",
    "headers, data = read_csv(data_dir + \"driving_log.csv\")"
   ]
  },
  {
   "cell_type": "markdown",
   "metadata": {
    "deletable": true,
    "editable": true
   },
   "source": [
    "# Create Labels: steering value classes\n",
    "\n",
    "- Please review notebook \"preprocessing\", section: \"Steering value distribution\".\n",
    "- Training labels have values ranging from -1 to +1.\n",
    "- When you steer with **keyboard** the STEPS are rather corse, so I think I can get away with **discrete steering angles, i.e. classes**.\n",
    "- I will start training with 21 equally spread classes, if needed I will increase to 41.\n",
    "- I want to make sure that my classes include **0.0 (zero)** as it is most common value."
   ]
  },
  {
   "cell_type": "code",
   "execution_count": 4,
   "metadata": {
    "collapsed": false,
    "deletable": true,
    "editable": true
   },
   "outputs": [
    {
     "name": "stdout",
     "output_type": "stream",
     "text": [
      "steering_classes [-1.  -0.9 -0.8 -0.7 -0.6 -0.5 -0.4 -0.3 -0.2 -0.1  0.   0.1  0.2  0.3  0.4\n",
      "  0.5  0.6  0.7  0.8  0.9  1. ]\n",
      "Number of classes 21\n"
     ]
    },
    {
     "data": {
      "image/png": "[encoded data removed]",
      "text/plain": [
       "<matplotlib.figure.Figure at 0x11a5f8588>"
      ]
     },
     "metadata": {},
     "output_type": "display_data"
    }
   ],
   "source": [
    "import numpy as np\n",
    "from numpy import ndarray\n",
    "number_of_classes = 21 # desired number of classes, could be 41, too.\n",
    "steering_classes = np.linspace(-1, 1, num=number_of_classes, endpoint=True) \n",
    "steering_classes = np.sort(steering_classes)\n",
    "print(\"steering_classes\", steering_classes)\n",
    "number_of_classes = steering_classes.shape[0]\n",
    "print(\"Number of classes\", number_of_classes)\n",
    "\n",
    "import matplotlib.pyplot as plt\n",
    "plt.plot(steering_classes, 'b.')\n",
    "plt.margins(0.1)\n",
    "plt.title(\"Distribution of steering value classes.\")\n",
    "plt.xlabel(\"class number\")\n",
    "plt.ylabel('steering value')\n",
    "plt.show()"
   ]
  },
  {
   "cell_type": "markdown",
   "metadata": {
    "collapsed": false,
    "deletable": true,
    "editable": true
   },
   "source": [
    "# Split data into training, testing and validation sets"
   ]
  },
  {
   "cell_type": "code",
   "execution_count": 5,
   "metadata": {
    "collapsed": false,
    "deletable": true,
    "editable": true
   },
   "outputs": [
    {
     "name": "stdout",
     "output_type": "stream",
     "text": [
      "percent_validation 0\n",
      "training (6831, 7)\n",
      "testing (1205, 7)\n",
      "validation (0, 7)\n"
     ]
    }
   ],
   "source": [
    "from DataHelper import split_random\n",
    "\n",
    "# keras actually does it's own split, so here I just reserve small validation set.\n",
    "training, testing, validation = split_random(data, percent_train=85, percent_test=15) \n",
    "\n",
    "print(\"training\",training.shape)\n",
    "print(\"testing\",testing.shape)\n",
    "print(\"validation\",validation.shape)"
   ]
  },
  {
   "cell_type": "markdown",
   "metadata": {
    "deletable": true,
    "editable": true
   },
   "source": [
    "# Extract training features (images)"
   ]
  },
  {
   "cell_type": "code",
   "execution_count": 6,
   "metadata": {
    "collapsed": false,
    "deletable": true,
    "editable": true
   },
   "outputs": [
    {
     "name": "stdout",
     "output_type": "stream",
     "text": [
      "(6831,)\n",
      "IMG/center_2016_12_01_13_32_46_084.jpg\n"
     ]
    }
   ],
   "source": [
    "from DataHelper import get_image_center_values \n",
    "image_names = get_image_center_values(training)\n",
    "print(image_names.shape)\n",
    "print(image_names[1])"
   ]
  },
  {
   "cell_type": "markdown",
   "metadata": {
    "deletable": true,
    "editable": true
   },
   "source": [
    "## Create a list of image paths pointing to 64px version"
   ]
  },
  {
   "cell_type": "code",
   "execution_count": 7,
   "metadata": {
    "collapsed": false,
    "deletable": true,
    "editable": true
   },
   "outputs": [
    {
     "name": "stdout",
     "output_type": "stream",
     "text": [
      "../../../DATA/behavioral_cloning_data/processed_images_64/IMG/center_2016_12_01_13_32_46_084.jpg\n"
     ]
    }
   ],
   "source": [
    "image_paths = []\n",
    "for image_name in image_names:\n",
    "    image_paths.extend([data_dir + processed_images_dir + image_name])\n",
    "print(image_paths[1]) "
   ]
  },
  {
   "cell_type": "code",
   "execution_count": 8,
   "metadata": {
    "collapsed": false,
    "deletable": true,
    "editable": true
   },
   "outputs": [
    {
     "name": "stdout",
     "output_type": "stream",
     "text": [
      "training_images matrix shape (6831, 14, 64, 3)\n"
     ]
    },
    {
     "data": {
      "image/png": "[encoded data removed]",
      "text/plain": [
       "<matplotlib.figure.Figure at 0x10612b240>"
      ]
     },
     "metadata": {},
     "output_type": "display_data"
    }
   ],
   "source": [
    "from DataHelper import read_image\n",
    "training_images = np.array([ read_image(path) for path in image_paths] )\n",
    "\n",
    "print (\"training_images matrix shape\", training_images.shape)\n",
    "\n",
    "plt.imshow(training_images[2], cmap='gray')\n",
    "plt.show()"
   ]
  },
  {
   "cell_type": "code",
   "execution_count": 9,
   "metadata": {
    "collapsed": false,
    "deletable": true,
    "editable": true
   },
   "outputs": [
    {
     "data": {
      "image/png": "[encoded data removed]",
      "text/plain": [
       "<matplotlib.figure.Figure at 0x11af2ea20>"
      ]
     },
     "metadata": {},
     "output_type": "display_data"
    },
    {
     "name": "stdout",
     "output_type": "stream",
     "text": [
      "sample_image \n",
      " (14, 64, 3) \n",
      " [[[-0.5       ]\n",
      "  [-0.5       ]\n",
      "  [-0.5       ]]\n",
      "\n",
      " [[-0.5       ]\n",
      "  [-0.49607843]\n",
      "  [-0.48431373]]\n",
      "\n",
      " [[-0.49607843]\n",
      "  [-0.5       ]\n",
      "  [-0.5       ]]]\n"
     ]
    }
   ],
   "source": [
    "from DataHelper import normalize_grayscale\n",
    "X_train = normalize_grayscale(training_images)\n",
    "sample_image = X_train[2]\n",
    "\n",
    "plt.imshow(sample_image, cmap='gray')\n",
    "plt.show()\n",
    "\n",
    "show_rows = 3\n",
    "show_cols = 3\n",
    "show_channels = 1\n",
    "\n",
    "print(\"sample_image \\n\", sample_image.shape,\"\\n\", sample_image[:show_rows,:show_cols,:show_channels]) #  "
   ]
  },
  {
   "cell_type": "code",
   "execution_count": 10,
   "metadata": {
    "collapsed": false
   },
   "outputs": [
    {
     "name": "stdout",
     "output_type": "stream",
     "text": [
      "image_single_channel \n",
      " [-0.5 -0.5 -0.5 -0.5 -0.5] <class 'numpy.ndarray'> (14, 64)\n"
     ]
    }
   ],
   "source": [
    "def extract_image_single_channel(image):\n",
    "    show_rows = image.shape[0]\n",
    "    show_cols = image.shape[1]\n",
    "    show_channels = 1 # red\n",
    "    return np.array(  image[:show_rows, :show_cols, 0] )\n",
    "\n",
    "image_single_channel = extract_image_single_channel(sample_image)\n",
    "print(\"image_single_channel \\n\", image_single_channel[0][:5], type(image_single_channel),image_single_channel.shape)"
   ]
  },
  {
   "cell_type": "code",
   "execution_count": 11,
   "metadata": {
    "collapsed": false
   },
   "outputs": [
    {
     "name": "stdout",
     "output_type": "stream",
     "text": [
      "training_features_normalized (6831, 14, 64, 3)\n",
      "single channel shape \n",
      " (6831, 14, 3)\n",
      "single channel column \n",
      " [[-0.5        -0.5        -0.5       ]\n",
      " [-0.5        -0.5        -0.5       ]\n",
      " [-0.47254902 -0.47254902 -0.47254902]\n",
      " [-0.5        -0.5        -0.5       ]\n",
      " [-0.5        -0.5        -0.5       ]\n",
      " [-0.47254902 -0.47254902 -0.47254902]\n",
      " [-0.5        -0.5        -0.5       ]\n",
      " [-0.48039216 -0.48039216 -0.48039216]\n",
      " [-0.5        -0.5        -0.5       ]\n",
      " [-0.46078431 -0.46078431 -0.46078431]\n",
      " [-0.13137255 -0.13137255 -0.13137255]\n",
      " [-0.40588235 -0.40588235 -0.40588235]\n",
      " [-0.5        -0.5        -0.5       ]\n",
      " [-0.47647059 -0.47647059 -0.47647059]]\n",
      "single channel pixel \n",
      " [-0.5 -0.5 -0.5]\n",
      "single channel red value \n",
      " -0.5\n",
      "single channel red value \n",
      " -0.5\n"
     ]
    }
   ],
   "source": [
    "print(\"training_features_normalized\", X_train.shape)  \n",
    "\n",
    "X_train = extract_image_single_channel(X_train)\n",
    "\n",
    "print(\"single channel shape \\n\", X_train.shape)  \n",
    "print(\"single channel column \\n\", X_train[0:4][0]) \n",
    "print(\"single channel pixel \\n\", X_train[0][0]) \n",
    "print(\"single channel red value \\n\", X_train[0][0][0])  \n",
    "print(\"single channel red value \\n\", X_train[0][0][0])  "
   ]
  },
  {
   "cell_type": "markdown",
   "metadata": {
    "deletable": true,
    "editable": true
   },
   "source": [
    "# Training labels (steering angle values) "
   ]
  },
  {
   "cell_type": "code",
   "execution_count": 12,
   "metadata": {
    "collapsed": false,
    "deletable": true,
    "editable": true
   },
   "outputs": [
    {
     "name": "stdout",
     "output_type": "stream",
     "text": [
      "(6831,)\n",
      "[ 0.          0.          0.04262284  0.          0.          0.        ]\n"
     ]
    }
   ],
   "source": [
    "from DataHelper import get_steering_values, find_nearest\n",
    "steering_angles = get_steering_values(training) #array of float32\n",
    "print(steering_angles.shape)\n",
    "print(steering_angles[0:6])"
   ]
  },
  {
   "cell_type": "markdown",
   "metadata": {},
   "source": [
    "# Round steering angles\n",
    "\n",
    "- I might consider rounding the steering angles to lower amount of training"
   ]
  },
  {
   "cell_type": "code",
   "execution_count": 13,
   "metadata": {
    "collapsed": false
   },
   "outputs": [],
   "source": [
    "#X_test = steering_angles # round(steering_angles, 2)"
   ]
  },
  {
   "cell_type": "code",
   "execution_count": 14,
   "metadata": {
    "collapsed": false
   },
   "outputs": [
    {
     "name": "stdout",
     "output_type": "stream",
     "text": [
      "0.0\n"
     ]
    }
   ],
   "source": [
    "Y_train = np.array([], dtype=np.float32)\n",
    "\n",
    "for raw_label in steering_angles: # raw_labels[:5]\n",
    "    #print(\"raw_label\", raw_label)\n",
    "    rounded_value = float( find_nearest(steering_classes, raw_label) )\n",
    "    \n",
    "    # ???? Classification labels should be strings????\n",
    "    Y_train = np.append(X_test, [rounded_value])\n",
    "        \n",
    "print(X_test[0])"
   ]
  },
  {
   "cell_type": "markdown",
   "metadata": {
    "deletable": true,
    "editable": true
   },
   "source": [
    "# Encoding Training Labels in one-hot notation"
   ]
  },
  {
   "cell_type": "raw",
   "metadata": {
    "collapsed": false,
    "deletable": true,
    "editable": true
   },
   "source": [
    "from DataHelper import sort_unique_floats, encode_one_hot\n",
    "\n",
    "sorted_unique_labels = sort_unique_floats(training_labels)\n",
    "print(\"sorted_unique_labels X\\n\",  sorted_unique_labels)\n",
    "y_one_hot = encode_one_hot(steering_classes, training_labels)\n",
    "print(y_one_hot[3])\n",
    "print(\"y_one_hot\", y_one_hot.shape)"
   ]
  },
  {
   "cell_type": "markdown",
   "metadata": {
    "deletable": true,
    "editable": true
   },
   "source": [
    "# Keras (with TensorFlow)\n",
    "\n",
    "https://keras.io/layers/convolutional/"
   ]
  },
  {
   "cell_type": "code",
   "execution_count": 15,
   "metadata": {
    "collapsed": false,
    "deletable": true,
    "editable": true
   },
   "outputs": [],
   "source": [
    "import keras.backend as K\n",
    "from keras.models import Sequential\n",
    "from keras.layers import ELU\n",
    "from keras.layers.core import Flatten, Dense, Dropout, Activation, Lambda\n",
    "\n",
    "from keras.activations import relu, softmax\n",
    "from keras.optimizers import SGD\n",
    "import cv2, numpy as np\n",
    "from DataHelper import mean_pred, false_rates\n",
    "\n",
    "from keras.layers.convolutional import Convolution2D, MaxPooling2D, ZeroPadding2D, Convolution1D"
   ]
  },
  {
   "cell_type": "markdown",
   "metadata": {
    "deletable": true,
    "editable": true
   },
   "source": [
    "### See Model_Keras_VGG_16.py\n",
    "\n",
    "This file (in the same directory) contains MODEL definiteion for VGG.16."
   ]
  },
  {
   "cell_type": "raw",
   "metadata": {
    "collapsed": false,
    "deletable": true,
    "editable": true
   },
   "source": [
    "#from Model_Keras_VGG_16 import build_model # model = build_model('vgg16_weights.h5')\n",
    "from keras.applications import vgg16\n",
    "from keras.applications.vgg16 import VGG16"
   ]
  },
  {
   "cell_type": "raw",
   "metadata": {
    "collapsed": false,
    "deletable": true,
    "editable": true
   },
   "source": [
    "from keras.models import Model\n",
    "from DataHelper import show_layers\n",
    "\n",
    "model_VGG16 = VGG16(weights=None, include_top=True)\n",
    "\n",
    "model_VGG16.summary()\n"
   ]
  },
  {
   "cell_type": "raw",
   "metadata": {},
   "source": [
    "number_of_layers = show_layers(model_VGG16)"
   ]
  },
  {
   "cell_type": "markdown",
   "metadata": {},
   "source": [
    "# Adjust VGG.16 model architecture to match my needs"
   ]
  },
  {
   "cell_type": "raw",
   "metadata": {},
   "source": [
    "print(\"number_of_layers\", number_of_layers)\n",
    "\n",
    "# create last layer with 21 classes\n",
    "#x = Dense(21, activation='softmax', name='predictions')(model_VGG16.layers[-2].output)\n",
    "\n",
    "# Convert to REGRESSION\n",
    "last_layer = model_VGG16.layers[number_of_layers-1]\n",
    "print(\"last_layer name\",last_layer.name)\n",
    "\n",
    "# One (1) output class makes this a (linear) regression.\n",
    "x22 = Dense(1, activation='linear', name='regression')(last_layer.output)\n",
    "model = Model(input=model_VGG16.input, output=x22)\n",
    "\n",
    "model.summary()\n"
   ]
  },
  {
   "cell_type": "raw",
   "metadata": {},
   "source": [
    "from DataHelper import show_layers\n",
    "show_layers(model)"
   ]
  },
  {
   "cell_type": "raw",
   "metadata": {},
   "source": [
    "from keras.layers import InputLayer, Input\n",
    "\n",
    "#Layer (type)                     Output Shape          Param #     Connected to                     \n",
    "#input_3 (InputLayer)             (None, 224, 224, 3)   0  \n",
    "\n",
    "# model.add(Dense(32, input_dim=784))\n",
    "\n",
    "# Change layer #1\n",
    "\n",
    "\n",
    "my_input_shape = Input(shape=(14, 64, 1))\n",
    "# Input 0 is incompatible with layer block1_conv1: expected ndim=4, found ndim=5\n",
    "x = model_VGG16.get_layer(\"block1_conv1\")(my_input_shape)\n",
    "x = model_VGG16.get_layer(\"block1_conv2\")(x)\n",
    "x = model_VGG16.get_layer(\"block1_pool\")(x)\n",
    "\n",
    "x = model_VGG16.get_layer(\"block2_conv1\")(x)\n",
    "x = model_VGG16.get_layer(\"block2_conv2\")(x)\n",
    "x = model_VGG16.get_layer(\"block2_pool\")(x)\n",
    "\n",
    "x = model_VGG16.get_layer(\"block3_conv1\")(x)\n",
    "x = model_VGG16.get_layer(\"block3_conv2\")(x)\n",
    "x = model_VGG16.get_layer(\"block3_conv3\")(x)\n",
    "x = model_VGG16.get_layer(\"block3_pool\")(x)\n",
    "\n",
    "x = model_VGG16.get_layer(\"block4_conv1\")(x)\n",
    "x = model_VGG16.get_layer(\"block4_conv2\")(x)\n",
    "x = model_VGG16.get_layer(\"block4_conv3\")(x)\n",
    "x = model_VGG16.get_layer(\"block4_pool\")(x)\n",
    "\n",
    "x = model_VGG16.get_layer(\"block5_conv1\")(x)\n",
    "x = model_VGG16.get_layer(\"block5_conv2\")(x)\n",
    "x = model_VGG16.get_layer(\"block5_conv3\")(x)\n",
    "x = model_VGG16.get_layer(\"block5_pool\")(x)\n",
    "\n",
    "x = model_VGG16.get_layer(\"flatten\")(x)\n",
    "x = model_VGG16.get_layer(\"fc1\")(x)\n",
    "x = model_VGG16.get_layer(\"fc2\")(x)\n",
    "x = model_VGG16.get_layer(\"predictions\")(x)\n",
    "result = model_VGG16.get_layer(\"regression\")(x)\n",
    "\n",
    "model = Model(input=my_input_shape, output=result)\n",
    "\n",
    "#intput_layer = model_VGG16.layers[0]\n",
    "#print(\"intput_layer name\", intput_layer.name)\n",
    "\n",
    "\n",
    "#L0 = InputLayer((None, 14, 64, 1), name='input_14x64x1')(intput_layer.output)\n",
    "#model = Model(input=model_VGG16.input, output=L0)\n",
    "\n",
    "model.summary() \n",
    "show_layers(model)\n",
    "\n",
    "break"
   ]
  },
  {
   "cell_type": "code",
   "execution_count": 16,
   "metadata": {
    "collapsed": false
   },
   "outputs": [
    {
     "name": "stdout",
     "output_type": "stream",
     "text": [
      "____________________________________________________________________________________________________\n",
      "Layer (type)                     Output Shape          Param #     Connected to                     \n",
      "====================================================================================================\n",
      "convolution2d_1 (Convolution2D)  (None, 14, 64, 64)    1792        convolution2d_input_1[0][0]      \n",
      "____________________________________________________________________________________________________\n",
      "regression_result (Dense)        (None, 14, 64, 1)     65          convolution2d_1[0][0]            \n",
      "====================================================================================================\n",
      "Total params: 1,857\n",
      "Trainable params: 1,857\n",
      "Non-trainable params: 0\n",
      "____________________________________________________________________________________________________\n"
     ]
    }
   ],
   "source": [
    "from keras.layers import InputLayer, Input\n",
    "\n",
    "model = Sequential()\n",
    "# apply a 3x3 convolution with 64 output filters on a 14x64 image:\n",
    "model.add(Convolution2D(64, 3, 3, border_mode='same', \n",
    "                        input_shape=(14, 64 ,3), dim_ordering='tf'))\n",
    "# now model.output_shape == (None, 64, 14, 64)\n",
    "#model.add(Activation('relu', name=\"02_ReLU\"))\n",
    "#model.add(Convolution2D(32, 3, 3, border_mode='same', name=\"03_conv\"))\n",
    "#model.add(Activation('relu', name=\"04_ReLU\"))\n",
    "\n",
    "#model.add(MaxPooling2D(pool_size=(2, 2)))\n",
    "#model.add(Dropout(0.25))\n",
    "\n",
    "#The shape of the input to \"Flatten\" is not fully defined (got (None, 14, 32). \n",
    "#Make sure to pass a complete \"input_shape\" or \"batch_input_shape\" argument to the first layer in your model.\n",
    "#The shape of the input to \"Flatten\" is not fully defined (got (None, 7, 32). \n",
    "#Make sure to pass a complete \"input_shape\" or \"batch_input_shape\" argument to the first layer in your model.\n",
    "#model.add(Flatten())\n",
    "\n",
    "#Negative dimension size caused by subtracting 2 from 1 for 'MaxPool_15' (op: 'MaxPool') with input shapes: [?,1,14,32].\n",
    "#model.add(MaxPooling2D(pool_size=(2, 2)))\n",
    "#model.add(Dropout(0.25))\n",
    "#model.add(Dense(256))\n",
    "#model.add(Activation('relu', name=\"04_ReLU\"))\n",
    "#model.add(Dense(256))\n",
    "#model.add(Activation('relu'))\n",
    "\n",
    "#expected regression to have 4 dimensions, but got array with shape (6831, 21)\n",
    "model.add(Dense(1, activation='linear', name='regression_result'))\n",
    "\n",
    "model.summary()"
   ]
  },
  {
   "cell_type": "markdown",
   "metadata": {},
   "source": [
    "# Compile model (configure learning process)"
   ]
  },
  {
   "cell_type": "code",
   "execution_count": 17,
   "metadata": {
    "collapsed": false,
    "deletable": true,
    "editable": true
   },
   "outputs": [],
   "source": [
    "# Before training a model, you need to configure the learning process, which is done via the compile method.\n",
    "optimizer='sgd' # | 'rmsprop'\n",
    "loss_function='mean_squared_error' # | 'binary_crossentropy' | 'mse'\n",
    "metrics_array=['accuracy'] # , mean_pred, false_rates\n",
    "\n",
    "model.compile(optimizer, loss_function, metrics_array)"
   ]
  },
  {
   "cell_type": "markdown",
   "metadata": {},
   "source": [
    "# Replace model with one stored on disk\n",
    "\n",
    "- If you replace the model, the INPUT dimetions have to be the same as these trained\n",
    "- Name your models well"
   ]
  },
  {
   "cell_type": "code",
   "execution_count": 18,
   "metadata": {
    "collapsed": false,
    "deletable": true,
    "editable": true
   },
   "outputs": [],
   "source": [
    "from keras.models import load_model\n",
    "\n",
    "#model = load_model('model.h5') # pick model to resume\n",
    "#model.summary()"
   ]
  },
  {
   "cell_type": "markdown",
   "metadata": {},
   "source": [
    "# Train (fit) the model agaist given labels"
   ]
  },
  {
   "cell_type": "code",
   "execution_count": 19,
   "metadata": {
    "collapsed": false,
    "deletable": true,
    "editable": true
   },
   "outputs": [
    {
     "ename": "NameError",
     "evalue": "name 'Y_train' is not defined",
     "output_type": "error",
     "traceback": [
      "\u001b[0;31m---------------------------------------------------------------------------\u001b[0m",
      "\u001b[0;31mNameError\u001b[0m                                 Traceback (most recent call last)",
      "\u001b[0;32m<ipython-input-19-9286d2abb548>\u001b[0m in \u001b[0;36m<module>\u001b[0;34m()\u001b[0m\n\u001b[0;32m----> 1\u001b[0;31m history = model.fit(X_train, Y_train, nb_epoch=3, \n\u001b[0m\u001b[1;32m      2\u001b[0m                     batch_size=batch_size, verbose=1, show_accuracy=True, validation_split=0.2)\n\u001b[1;32m      3\u001b[0m \u001b[0;34m\u001b[0m\u001b[0m\n\u001b[1;32m      4\u001b[0m \u001b[0;31m#history = model.fit(training_features_normalized, raw_labels, nb_epoch=3, verbose=1, validation_split=0.2)\u001b[0m\u001b[0;34m\u001b[0m\u001b[0;34m\u001b[0m\u001b[0m\n\u001b[1;32m      5\u001b[0m \u001b[0;31m#history = model.fit(training_features_normalized, training_labels, nb_epoch=3, verbose=1, validation_split=0.2)\u001b[0m\u001b[0;34m\u001b[0m\u001b[0;34m\u001b[0m\u001b[0m\n",
      "\u001b[0;31mNameError\u001b[0m: name 'Y_train' is not defined"
     ]
    }
   ],
   "source": [
    "history = model.fit(X_train, Y_train, nb_epoch=3, \n",
    "                    batch_size=batch_size, verbose=1, show_accuracy=True, validation_split=0.2)\n",
    "\n",
    "#history = model.fit(training_features_normalized, raw_labels, nb_epoch=3, verbose=1, validation_split=0.2)\n",
    "#history = model.fit(training_features_normalized, training_labels, nb_epoch=3, verbose=1, validation_split=0.2)\n",
    "#history = model.fit(training_features_normalized, y_one_hot, nb_epoch=run_epochs, validation_split=0.2)\n",
    "#history = model.fit(single_channel_features, y_one_hot, nb_epoch=run_epochs, validation_split=0.2)"
   ]
  },
  {
   "cell_type": "raw",
   "metadata": {
    "deletable": true,
    "editable": true
   },
   "source": [
    "Epoch 20/20 loss: 0.0518 - acc: 0.60 - val_loss: 0.05 - val_acc: 0.59\n",
    "\n",
    "Train on 5464 samples, validate on 1367 samples\n",
    "Epoch 1/2\n",
    "5440/5464 [============================>.] - ETA: 42s - loss: 0.0453 - acc: 0.6099"
   ]
  },
  {
   "cell_type": "code",
   "execution_count": null,
   "metadata": {
    "collapsed": false,
    "deletable": true,
    "editable": true
   },
   "outputs": [],
   "source": [
    "\n",
    "# list all data in history\n",
    "print(history.history.keys())\n",
    "\n",
    "training_accuracy = str( history.history['acc'][run_epochs-1])\n",
    "print(\"training_accuracy\", training_accuracy)\n",
    "\n",
    "training_error = str( history.history['loss'][run_epochs-1])\n",
    "print(\"training_error\", training_error)\n",
    "\n",
    "\n",
    "validation_accuracy = str( history.history['val_acc'][run_epochs-1])\n",
    "print(\"validation_accuracy\", validation_accuracy)\n",
    "\n",
    "validation_error = str( history.history['val_loss'][run_epochs-1])\n",
    "print(\"validation_error\", validation_error)"
   ]
  },
  {
   "cell_type": "code",
   "execution_count": null,
   "metadata": {
    "collapsed": false,
    "deletable": true,
    "editable": true
   },
   "outputs": [],
   "source": [
    "model.save(data_dir + \"MODELS/\" + model_name + training_accuracy + \".h5') # creates a HDF5 file '___.h5'\n",
    "#del model  # deletes the existing model\n",
    "#model = load_model('my_model.h5')"
   ]
  },
  {
   "cell_type": "code",
   "execution_count": null,
   "metadata": {
    "collapsed": false,
    "deletable": true,
    "editable": true
   },
   "outputs": [],
   "source": [
    "# summarize history for accuracy\n",
    "plt.plot(history.history['acc'])\n",
    "plt.plot(history.history['val_acc'])\n",
    "plt.title('model accuracy (bigger better)')\n",
    "plt.ylabel('accuracy')\n",
    "plt.xlabel('epoch')\n",
    "plt.legend(['training accuracy', 'testing accuracy'], loc='upper left')\n",
    "plt.show()\n",
    "\n",
    "# summarize history for loss\n",
    "plt.plot(history.history['loss'])\n",
    "plt.plot(history.history['val_loss'])\n",
    "plt.title('Validation error (smaller better)')\n",
    "plt.ylabel('error')\n",
    "plt.xlabel('epochs run')\n",
    "plt.legend(['training error', 'testing error'], loc='lower left')\n",
    "plt.show()"
   ]
  },
  {
   "cell_type": "raw",
   "metadata": {
    "collapsed": false,
    "deletable": true,
    "editable": true
   },
   "source": []
  }
 ],
 "metadata": {
  "kernelspec": {
   "display_name": "conda env carnd-term1",
   "language": "python",
   "name": "carnd-term1"
  },
  "language_info": {
   "codemirror_mode": {
    "name": "ipython",
    "version": 3
   },
   "file_extension": ".py",
   "mimetype": "text/x-python",
   "name": "python",
   "nbconvert_exporter": "python",
   "pygments_lexer": "ipython3",
   "version": "3.5.2"
  },
  "widgets": {
   "state": {},
   "version": "1.1.2"
  }
 },
 "nbformat": 4,
 "nbformat_minor": 2
}
