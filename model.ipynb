{
 "cells": [
  {
   "cell_type": "markdown",
   "metadata": {
    "deletable": true,
    "editable": true
   },
   "source": [
    "# model\n",
    "\n",
    "Please refer to README file for project overview."
   ]
  },
  {
   "cell_type": "markdown",
   "metadata": {
    "deletable": true,
    "editable": true
   },
   "source": [
    "# Set execution parameters"
   ]
  },
  {
   "cell_type": "code",
   "execution_count": 1,
   "metadata": {
    "collapsed": true,
    "deletable": true,
    "editable": true
   },
   "outputs": [],
   "source": [
    "data_dir = \"../_DATA/CarND_behavioral_cloning/r_001/\"\n",
    "image_final_width = 64\n",
    "driving_data_csv = \"driving_log_normalized.csv\"\n",
    "processed_images_dir = \"processed_images/\"\n",
    "\n",
    "model_dir = \"../_DATA/MODELS/\"\n",
    "model_name = \"model_p3_14x64x3_\"\n",
    "batch_size = 256\n",
    "nb_epoch = 10 \n",
    "# 30 epochs = 55 minutes on MacBook Pro\n",
    "\n",
    "# CONTINUE TRAINING ?\n",
    "should_retrain_existing_model = True\n",
    "model_to_continue_training = \"model_p3_keras_tf_mini_14x64x3__epoch_30_val_acc_0.402555912543.h5\"\n",
    "previous_trained_epochs = 30"
   ]
  },
  {
   "cell_type": "markdown",
   "metadata": {
    "deletable": true,
    "editable": true
   },
   "source": [
    "# Python Imports"
   ]
  },
  {
   "cell_type": "code",
   "execution_count": 2,
   "metadata": {
    "collapsed": false,
    "deletable": true,
    "editable": true
   },
   "outputs": [
    {
     "name": "stderr",
     "output_type": "stream",
     "text": [
      "Using TensorFlow backend.\n"
     ]
    }
   ],
   "source": [
    "import matplotlib.pyplot as plt\n",
    "\n",
    "# import matplotlib.image as mpimg\n",
    "# from scipy import misc\n",
    "# import cv2\n",
    "\n",
    "import DataHelper\n",
    "#print(DataHelper.__doc__)"
   ]
  },
  {
   "cell_type": "markdown",
   "metadata": {
    "deletable": true,
    "editable": true
   },
   "source": [
    "# Fetch CSV driving data"
   ]
  },
  {
   "cell_type": "code",
   "execution_count": 3,
   "metadata": {
    "collapsed": false,
    "deletable": true,
    "editable": true
   },
   "outputs": [
    {
     "name": "stdout",
     "output_type": "stream",
     "text": [
      "../_DATA/CarND_behavioral_cloning/r_001/driving_log_normalized.csv\n",
      "Number of imported CSV rows: 11723\n"
     ]
    }
   ],
   "source": [
    "from  DataHelper import read_csv\n",
    "\n",
    "print(data_dir + driving_data_csv)\n",
    "headers, data = read_csv(data_dir + driving_data_csv)"
   ]
  },
  {
   "cell_type": "markdown",
   "metadata": {
    "collapsed": false,
    "deletable": true,
    "editable": true
   },
   "source": [
    "# Split Training, Testing and Validation sets\n",
    "\n",
    "Keras actually does it's own training/testing split, so here I just reserve small validation set."
   ]
  },
  {
   "cell_type": "code",
   "execution_count": 4,
   "metadata": {
    "collapsed": false,
    "deletable": true,
    "editable": true
   },
   "outputs": [
    {
     "name": "stdout",
     "output_type": "stream",
     "text": [
      "percent_validation 0\n",
      "training (9964, 7)\n",
      "testing (1758, 7)\n",
      "validation (0, 7)\n"
     ]
    }
   ],
   "source": [
    "from DataHelper import split_random\n",
    "\n",
    "training, testing, validation = split_random(data, percent_train=85, percent_test=15) \n",
    "\n",
    "print(\"training\", training.shape)\n",
    "print(\"testing\", testing.shape)\n",
    "print(\"validation\", validation.shape)"
   ]
  },
  {
   "cell_type": "markdown",
   "metadata": {
    "deletable": true,
    "editable": true
   },
   "source": [
    "# Fetch steering angles"
   ]
  },
  {
   "cell_type": "code",
   "execution_count": 5,
   "metadata": {
    "collapsed": false,
    "deletable": true,
    "editable": true
   },
   "outputs": [
    {
     "name": "stdout",
     "output_type": "stream",
     "text": [
      "min_value -0.893879\n",
      "max_value 0.965902\n",
      "spread 1.85978\n",
      "recommended number of classes 186\n"
     ]
    },
    {
     "data": {
      "image/png": "[encoded data removed]",
      "text/plain": [
       "<matplotlib.figure.Figure at 0x10abe8710>"
      ]
     },
     "metadata": {},
     "output_type": "display_data"
    }
   ],
   "source": [
    "from DataHelper import plot_histogram, get_steering_values, find_nearest\n",
    "\n",
    "steering_angles = get_steering_values(training)\n",
    "\n",
    "change_step=0.01 # test data changes\n",
    "plot_histogram(\"steering values\", steering_angles, change_step)"
   ]
  },
  {
   "cell_type": "markdown",
   "metadata": {
    "deletable": true,
    "editable": true
   },
   "source": [
    "# Create discrete 41 steering classes\n",
    "\n",
    "- I might consider rounding the steering angles to lower amount of training\n",
    "- I assume the classification labels to be float values"
   ]
  },
  {
   "cell_type": "code",
   "execution_count": 6,
   "metadata": {
    "collapsed": false,
    "deletable": true,
    "editable": true
   },
   "outputs": [
    {
     "name": "stdout",
     "output_type": "stream",
     "text": [
      "steering_classes [-1.         -0.94999999 -0.89999998 -0.85000002 -0.80000001 -0.75\n",
      " -0.69999999 -0.64999998 -0.60000002 -0.55000001 -0.5        -0.44999999\n",
      " -0.40000001 -0.34999999 -0.30000001 -0.25       -0.2        -0.15000001\n",
      " -0.1        -0.05        0.          0.05        0.1         0.15000001\n",
      "  0.2         0.25        0.30000001  0.34999999  0.40000001  0.44999999\n",
      "  0.5         0.55000001  0.60000002  0.64999998  0.69999999  0.75\n",
      "  0.80000001  0.85000002  0.89999998  0.94999999  1.        ] <class 'numpy.float32'>\n",
      "Number of created classes 41\n"
     ]
    },
    {
     "data": {
      "image/png": "[encoded data removed]",
      "text/plain": [
       "<matplotlib.figure.Figure at 0x1122da8d0>"
      ]
     },
     "metadata": {},
     "output_type": "display_data"
    }
   ],
   "source": [
    "import numpy as np\n",
    "from numpy import ndarray\n",
    "from DataHelper import create_steering_classes, plot_steering_values\n",
    "\n",
    "steering_classes = create_steering_classes(number_of_classes = 41).astype(np.float32)\n",
    "\n",
    "# ROUNDING is a hopeless effort\n",
    "# steering_classes = np.round(steering_classes, 2)\n",
    "\n",
    "print(\"steering_classes\", steering_classes, type(steering_classes[0]))\n",
    "number_of_classes = steering_classes.shape[0]\n",
    "print(\"Number of created classes\", number_of_classes)\n",
    "\n",
    "plot_steering_values(values = steering_classes)"
   ]
  },
  {
   "cell_type": "markdown",
   "metadata": {
    "deletable": true,
    "editable": true
   },
   "source": [
    "## Snap the ACTUAL steering angles to newly created classes"
   ]
  },
  {
   "cell_type": "code",
   "execution_count": 7,
   "metadata": {
    "collapsed": false,
    "deletable": true,
    "editable": true,
    "scrolled": true
   },
   "outputs": [
    {
     "name": "stdout",
     "output_type": "stream",
     "text": [
      "[-0.30000001 -0.2         0.69999999 -0.2        -0.15000001 -0.25       -0.1\n",
      " -0.05        0.1        -0.2        -0.2        -0.1         0.\n",
      "  0.15000001 -0.55000001 -0.05       -0.15000001 -0.05       -0.25       -0.05\n",
      "  0.         -0.2        -0.1        -0.1        -0.15000001 -0.25       -0.25\n",
      " -0.15000001 -0.1        -0.30000001 -0.2        -0.1         0.          0.\n",
      " -0.1        -0.2         0.1        -0.25       -0.2         0.25\n",
      "  0.34999999 -0.05        0.2         0.         -0.30000001 -0.05        0.1\n",
      " -0.34999999  0.34999999 -0.2       ] <class 'numpy.float32'>\n"
     ]
    }
   ],
   "source": [
    "training_labels = np.array([], dtype=np.float32)\n",
    "\n",
    "for actual_steering_angle in steering_angles:\n",
    "    rounded_value = find_nearest(steering_classes, actual_steering_angle).astype(np.float32)\n",
    "    training_labels = np.append(training_labels, [rounded_value])\n",
    "        \n",
    "print(training_labels[0:50], type(training_labels[0]))"
   ]
  },
  {
   "cell_type": "code",
   "execution_count": 8,
   "metadata": {
    "collapsed": false,
    "deletable": true,
    "editable": true
   },
   "outputs": [
    {
     "name": "stdout",
     "output_type": "stream",
     "text": [
      "min_value -0.9\n",
      "max_value 0.95\n",
      "spread 1.85\n",
      "recommended number of classes 185\n"
     ]
    },
    {
     "data": {
      "image/png": "[encoded data removed]",
      "text/plain": [
       "<matplotlib.figure.Figure at 0x11aac2128>"
      ]
     },
     "metadata": {},
     "output_type": "display_data"
    }
   ],
   "source": [
    "plot_histogram(\"steering values\", training_labels, change_step=0.01)"
   ]
  },
  {
   "cell_type": "markdown",
   "metadata": {
    "deletable": true,
    "editable": true
   },
   "source": [
    "## Test conversion form actual to class label"
   ]
  },
  {
   "cell_type": "code",
   "execution_count": 9,
   "metadata": {
    "collapsed": false,
    "deletable": true,
    "editable": true
   },
   "outputs": [
    {
     "name": "stdout",
     "output_type": "stream",
     "text": [
      "actual: 0.00997209 class: 0.0\n",
      "actual: -0.231729 class: -0.25\n",
      "actual: -0.125934 class: -0.15\n"
     ]
    }
   ],
   "source": [
    "from random import randrange\n",
    "\n",
    "sample_index = randrange(0,len(steering_angles))\n",
    "print(\"actual:\", steering_angles[sample_index], \"class:\",training_labels[sample_index])\n",
    "\n",
    "sample_index = randrange(0,len(steering_angles))\n",
    "print(\"actual:\", steering_angles[sample_index], \"class:\",training_labels[sample_index])\n",
    "\n",
    "sample_index = randrange(0,len(steering_angles))\n",
    "print(\"actual:\", steering_angles[sample_index], \"class:\",training_labels[sample_index])"
   ]
  },
  {
   "cell_type": "markdown",
   "metadata": {
    "deletable": true,
    "editable": true
   },
   "source": [
    "## Encoding Training Labels in one-hot notation"
   ]
  },
  {
   "cell_type": "code",
   "execution_count": 10,
   "metadata": {
    "collapsed": false,
    "deletable": true,
    "editable": true
   },
   "outputs": [
    {
     "name": "stdout",
     "output_type": "stream",
     "text": [
      "defined_classes\n",
      " [-1.         -1.         -0.89999998 -0.80000001 -0.80000001 -0.80000001\n",
      " -0.69999999 -0.60000002 -0.60000002 -0.60000002 -0.5        -0.40000001\n",
      " -0.40000001 -0.40000001 -0.30000001 -0.2        -0.2        -0.2        -0.1\n",
      " -0.          0.          0.          0.1         0.2         0.2         0.2\n",
      "  0.30000001  0.40000001  0.40000001  0.40000001  0.5         0.60000002\n",
      "  0.60000002  0.60000002  0.69999999  0.80000001  0.80000001  0.80000001\n",
      "  0.89999998  1.          1.        ]\n",
      "class_count: 41\n",
      "sample_count: 9964\n",
      "one_hot examples \n",
      " [[0 0 0 0 0 0 0 0 0 0 0 0 0 0 1 0 0 0 0 0 0 0 0 0 0 0 0 0 0 0 0 0 0 0 0 0 0\n",
      "  0 0 0 0]\n",
      " [0 0 0 0 0 0 0 0 0 0 0 0 0 0 0 1 0 0 0 0 0 0 0 0 0 0 0 0 0 0 0 0 0 0 0 0 0\n",
      "  0 0 0 0]\n",
      " [0 0 0 0 0 0 0 0 0 0 0 0 0 0 0 0 0 0 0 0 0 0 0 0 0 0 0 0 0 0 0 0 0 0 1 0 0\n",
      "  0 0 0 0]]\n",
      "one_hot shape (9964, 41)\n",
      "y_one_hot (9964, 41)\n"
     ]
    }
   ],
   "source": [
    "from DataHelper import encode_one_hot, locate_one_hot_position\n",
    "\n",
    "y_one_hot =  encode_one_hot(defined_classes=steering_classes, sample_labels=training_labels)\n",
    "\n",
    "print(\"y_one_hot\", y_one_hot.shape)"
   ]
  },
  {
   "cell_type": "markdown",
   "metadata": {
    "deletable": true,
    "editable": true
   },
   "source": [
    "### One-hot print and verify"
   ]
  },
  {
   "cell_type": "code",
   "execution_count": 11,
   "metadata": {
    "collapsed": false,
    "deletable": true,
    "editable": true
   },
   "outputs": [
    {
     "name": "stdout",
     "output_type": "stream",
     "text": [
      "training label -0.3 is @ 14 \n",
      " [0 0 0 0 0 0 0 0 0 0 0 0 0 0 1 0 0 0 0 0 0 0 0 0 0 0 0 0 0 0 0 0 0 0 0 0 0\n",
      " 0 0 0 0]\n",
      "training label -0.2 is @ 16 \n",
      " [0 0 0 0 0 0 0 0 0 0 0 0 0 0 0 1 0 0 0 0 0 0 0 0 0 0 0 0 0 0 0 0 0 0 0 0 0\n",
      " 0 0 0 0]\n",
      "training label 0.7 is @ 34 \n",
      " [0 0 0 0 0 0 0 0 0 0 0 0 0 0 0 0 0 0 0 0 0 0 0 0 0 0 0 0 0 0 0 0 0 0 1 0 0\n",
      " 0 0 0 0]\n",
      "training label -0.2 is @ 16 \n",
      " [0 0 0 0 0 0 0 0 0 0 0 0 0 0 0 1 0 0 0 0 0 0 0 0 0 0 0 0 0 0 0 0 0 0 0 0 0\n",
      " 0 0 0 0]\n",
      "training label -0.15 is @ 17 \n",
      " [0 0 0 0 0 0 0 0 0 0 0 0 0 0 0 1 0 0 0 0 0 0 0 0 0 0 0 0 0 0 0 0 0 0 0 0 0\n",
      " 0 0 0 0]\n"
     ]
    }
   ],
   "source": [
    "for index in range(5):\n",
    "    print( \"training label\", training_labels[index], \"is @\", \n",
    "          locate_one_hot_position(steering_classes, training_labels[index] ), \n",
    "          \"\\n\", y_one_hot[index] )"
   ]
  },
  {
   "cell_type": "markdown",
   "metadata": {
    "deletable": true,
    "editable": true
   },
   "source": [
    "# Extract training features (images)"
   ]
  },
  {
   "cell_type": "code",
   "execution_count": 12,
   "metadata": {
    "collapsed": false,
    "deletable": true,
    "editable": true
   },
   "outputs": [
    {
     "name": "stdout",
     "output_type": "stream",
     "text": [
      "(9964,)\n",
      "center_2017_01_21_00_20_03_434.jpg\n"
     ]
    }
   ],
   "source": [
    "from DataHelper import get_image_center_values \n",
    "\n",
    "image_names = get_image_center_values(training)\n",
    "print(image_names.shape)\n",
    "print(image_names[1])"
   ]
  },
  {
   "cell_type": "markdown",
   "metadata": {
    "deletable": true,
    "editable": true
   },
   "source": [
    "## Create a list of image paths pointing to 64px version"
   ]
  },
  {
   "cell_type": "code",
   "execution_count": 13,
   "metadata": {
    "collapsed": false,
    "deletable": true,
    "editable": true
   },
   "outputs": [
    {
     "name": "stdout",
     "output_type": "stream",
     "text": [
      "../_DATA/CarND_behavioral_cloning/r_001/processed_images/center_2017_01_21_00_20_03_434.jpg\n"
     ]
    }
   ],
   "source": [
    "image_paths = []\n",
    "for image_name in image_names:\n",
    "    image_paths.extend([data_dir + processed_images_dir + image_name])\n",
    "print(image_paths[1]) "
   ]
  },
  {
   "cell_type": "markdown",
   "metadata": {
    "deletable": true,
    "editable": true
   },
   "source": [
    "## Read actual (preprocessed) images from the disk"
   ]
  },
  {
   "cell_type": "code",
   "execution_count": 14,
   "metadata": {
    "collapsed": false,
    "deletable": true,
    "editable": true
   },
   "outputs": [
    {
     "name": "stdout",
     "output_type": "stream",
     "text": [
      "training_features matrix shape (9964, 14, 64, 3)\n"
     ]
    },
    {
     "data": {
      "image/png": "[encoded data removed]",
      "text/plain": [
       "<matplotlib.figure.Figure at 0x10a8cce48>"
      ]
     },
     "metadata": {},
     "output_type": "display_data"
    },
    {
     "name": "stdout",
     "output_type": "stream",
     "text": [
      "[[ 2 11  0]\n",
      " [ 2 10  0]\n",
      " [ 0  9  0]\n",
      " [ 0  7  0]\n",
      " [ 0  4  0]\n",
      " [ 0  2  0]\n",
      " [ 0  0  4]\n",
      " [ 0  0  8]\n",
      " [ 0  0 10]\n",
      " [ 0  0 11]\n",
      " [ 0  0 11]\n",
      " [ 4  0  8]\n",
      " [ 7  0  7]\n",
      " [11  0  4]\n",
      " [12  0  3]]\n"
     ]
    }
   ],
   "source": [
    "from DataHelper import read_image\n",
    "\n",
    "training_features = np.array([ read_image(path) for path in image_paths] )\n",
    "\n",
    "print (\"training_features matrix shape\", training_features.shape)\n",
    "\n",
    "sample_image = training_features[2]\n",
    "plt.imshow(sample_image) # cmap='gray' , cmap='rainbow'\n",
    "plt.show()\n",
    "\n",
    "print(sample_image[0][0:15])"
   ]
  },
  {
   "cell_type": "markdown",
   "metadata": {
    "deletable": true,
    "editable": true
   },
   "source": [
    "## X Extract single channel (red)"
   ]
  },
  {
   "cell_type": "raw",
   "metadata": {
    "collapsed": false,
    "deletable": true,
    "editable": true
   },
   "source": [
    "from DataHelper import normalize_grayscale\n",
    "\n",
    "show_rows = 1 # of 64\n",
    "show_cols = 14\n",
    "show_channels = 1 # of 3\n",
    "\n",
    "print(\"sample_image \\n\", sample_image.shape,\"\\n\", sample_image[:show_rows,:show_cols,:show_channels]) #  "
   ]
  },
  {
   "cell_type": "raw",
   "metadata": {
    "collapsed": false,
    "deletable": true,
    "editable": true
   },
   "source": [
    "def extract_image_single_channel(image):\n",
    "    show_rows = image.shape[0]\n",
    "    show_cols = image.shape[1]\n",
    "    show_channels = 1 # red\n",
    "    return np.array(  image[:show_rows, :show_cols, 0] )\n",
    "\n",
    "# TEST\n",
    "image_single_channel = extract_image_single_channel(sample_image)\n",
    "print(\"image_single_channel: \\n\", image_single_channel[0][:18])\n",
    "print(\"type and shape: \\n\", type(image_single_channel),image_single_channel.shape)"
   ]
  },
  {
   "cell_type": "raw",
   "metadata": {
    "collapsed": false,
    "deletable": true,
    "editable": true
   },
   "source": [
    "print(\"training_images\", training_images.shape)  \n",
    "\n",
    "training_features = extract_image_single_channel(training_images)\n",
    "\n",
    "print(\"single channel shape \\n\", training_features.shape)  \n",
    "print(\"single channel column \\n\", training_features[0:4][0]) \n",
    "print(\"single channel pixel \\n\", training_features[0][0]) \n",
    "print(\"single channel red value \\n\", training_features[0][0][0])  \n",
    "print(\"single channel red value \\n\", training_features[0][0][0])  \n",
    "\n",
    "print(\"training_features\", training_features.shape) "
   ]
  },
  {
   "cell_type": "markdown",
   "metadata": {
    "deletable": true,
    "editable": true
   },
   "source": [
    "# Keras (with TensorFlow)\n",
    "\n",
    "https://keras.io/layers/convolutional/"
   ]
  },
  {
   "cell_type": "code",
   "execution_count": 15,
   "metadata": {
    "collapsed": false,
    "deletable": true,
    "editable": true
   },
   "outputs": [],
   "source": [
    "import keras.backend as K\n",
    "from keras.models import Sequential\n",
    "from keras.layers import ELU\n",
    "from keras.layers.core import Flatten, Dense, Dropout, Activation, Lambda\n",
    "\n",
    "from keras.activations import relu, softmax\n",
    "from keras.optimizers import SGD\n",
    "import cv2, numpy as np\n",
    "from DataHelper import mean_pred, false_rates\n",
    "\n",
    "from keras.layers.convolutional import Convolution2D, MaxPooling2D, ZeroPadding2D, Convolution1D"
   ]
  },
  {
   "cell_type": "markdown",
   "metadata": {
    "deletable": true,
    "editable": true
   },
   "source": [
    "### X Import Model_Keras_VGG_16.py\n",
    "\n",
    "This file (in the same directory) contains MODEL definiteion for VGG.16."
   ]
  },
  {
   "cell_type": "raw",
   "metadata": {
    "collapsed": false,
    "deletable": true,
    "editable": true
   },
   "source": [
    "#from Model_Keras_VGG_16 import build_model # model = build_model('vgg16_weights.h5')\n",
    "from keras.applications import vgg16\n",
    "from keras.applications.vgg16 import VGG16\n",
    "from keras.models import Model\n",
    "from DataHelper import show_layers\n",
    "\n",
    "model_VGG16 = VGG16(weights=None, include_top=True)\n",
    "\n",
    "model_VGG16.summary()\n",
    "number_of_layers = show_layers(model_VGG16)"
   ]
  },
  {
   "cell_type": "markdown",
   "metadata": {
    "deletable": true,
    "editable": true
   },
   "source": [
    "### X Adjust VGG.16 model architecture to match my needs"
   ]
  },
  {
   "cell_type": "raw",
   "metadata": {
    "deletable": true,
    "editable": true
   },
   "source": [
    "print(\"number_of_layers\", number_of_layers)\n",
    "\n",
    "# create last layer with 21 classes\n",
    "#x = Dense(21, activation='softmax', name='predictions')(model_VGG16.layers[-2].output)\n",
    "\n",
    "# Convert to REGRESSION\n",
    "last_layer = model_VGG16.layers[number_of_layers-1]\n",
    "print(\"last_layer name\",last_layer.name)\n",
    "\n",
    "# One (1) output class makes this a (linear) regression.\n",
    "x22 = Dense(1, activation='linear', name='regression')(last_layer.output)\n",
    "model = Model(input=model_VGG16.input, output=x22)\n",
    "\n",
    "model.summary()\n",
    "from DataHelper import show_layers\n",
    "show_layers(model)"
   ]
  },
  {
   "cell_type": "markdown",
   "metadata": {
    "deletable": true,
    "editable": true
   },
   "source": [
    "# Build my own custom model"
   ]
  },
  {
   "cell_type": "code",
   "execution_count": 16,
   "metadata": {
    "collapsed": false,
    "deletable": true,
    "editable": true
   },
   "outputs": [
    {
     "name": "stdout",
     "output_type": "stream",
     "text": [
      "____________________________________________________________________________________________________\n",
      "Layer (type)                     Output Shape          Param #     Connected to                     \n",
      "====================================================================================================\n",
      "conv2d_1_64x3x3_relu (Convolutio (None, 14, 64, 64)    1792        convolution2d_input_1[0][0]      \n",
      "____________________________________________________________________________________________________\n",
      "conv2d_2_128x3x3_relu (Convoluti (None, 14, 64, 128)   73856       conv2d_1_64x3x3_relu[0][0]       \n",
      "____________________________________________________________________________________________________\n",
      "conv2d_3_256x5x5_relu (Convoluti (None, 14, 64, 256)   819456      conv2d_2_128x3x3_relu[0][0]      \n",
      "____________________________________________________________________________________________________\n",
      "flatten_1 (Flatten)              (None, 229376)        0           conv2d_3_256x5x5_relu[0][0]      \n",
      "____________________________________________________________________________________________________\n",
      "dense_1_256_relu (Dense)         (None, 256)           58720512    flatten_1[0][0]                  \n",
      "____________________________________________________________________________________________________\n",
      "dropout_1_0.25 (Dropout)         (None, 256)           0           dense_1_256_relu[0][0]           \n",
      "____________________________________________________________________________________________________\n",
      "dense_2_256_relu (Dense)         (None, 256)           65792       dropout_1_0.25[0][0]             \n",
      "____________________________________________________________________________________________________\n",
      "dense_3_41_linear (Dense)        (None, 41)            10537       dense_2_256_relu[0][0]           \n",
      "====================================================================================================\n",
      "Total params: 59,691,945\n",
      "Trainable params: 59,691,945\n",
      "Non-trainable params: 0\n",
      "____________________________________________________________________________________________________\n"
     ]
    }
   ],
   "source": [
    "from keras.layers import InputLayer, Input\n",
    "\n",
    "# activation = \"relu\" | \"elu\"\n",
    "\n",
    "model = Sequential()\n",
    "\n",
    "model.add(Convolution2D(64, 3, 3, border_mode='same', activation=\"relu\" ,\n",
    "                        input_shape=(14, 64 ,3), dim_ordering='tf', name=\"conv2d_1_64x3x3_relu\"))\n",
    "model.add(Convolution2D(128, 3, 3, border_mode='same', activation=\"relu\", name=\"conv2d_2_128x3x3_relu\" ))\n",
    "model.add(Convolution2D(256, 5, 5, border_mode='same', activation=\"relu\", name=\"conv2d_3_256x5x5_relu\" ))\n",
    "\n",
    "model.add(Flatten())\n",
    "\n",
    "#model.add(MaxPooling2D(pool_size=(2, 2)))\n",
    "\n",
    "model.add(Dense(256, activation=\"relu\", name=\"dense_1_256_relu\"))\n",
    "model.add(Dropout(0.25, name=\"dropout_1_0.25\"))\n",
    "model.add(Dense(256, activation=\"relu\", name=\"dense_2_256_relu\" ))\n",
    "\n",
    "# CLASSIFICATION\n",
    "model.add(Dense(41, activation='linear' , name=\"dense_3_41_linear\")) # default: linear | softmax | relu | sigmoid\n",
    "\n",
    "# REGRESSION\n",
    "#model.add(Dense(1, activation='linear'))\n",
    "\n",
    "model.summary()"
   ]
  },
  {
   "cell_type": "markdown",
   "metadata": {
    "deletable": true,
    "editable": true
   },
   "source": [
    "# Compile model (configure learning process)"
   ]
  },
  {
   "cell_type": "code",
   "execution_count": null,
   "metadata": {
    "collapsed": false,
    "deletable": true,
    "editable": true
   },
   "outputs": [],
   "source": [
    "# Before training a model, you need to configure the learning process, which is done via the compile method.\n",
    "# \n",
    "# keras.optimizers.Adam(lr=0.001, beta_1=0.9, beta_2=0.999, epsilon=1e-08, decay=0.0)\n",
    "\n",
    "optimizer='sgd' # | 'rmsprop'\n",
    "loss_function=\"mse\" # | 'binary_crossentropy' | 'mse' | mean_squared_error | sparse_categorical_crossentropy\n",
    "metrics_array=['accuracy'] # , mean_pred, false_rates\n",
    "\n",
    "model.compile(optimizer, loss_function, metrics_array)"
   ]
  },
  {
   "cell_type": "markdown",
   "metadata": {
    "deletable": true,
    "editable": true
   },
   "source": [
    "# Replace model with one stored on disk\n",
    "\n",
    "- If you replace the model, the INPUT dimetions have to be the same as these trained\n",
    "- Name your models well"
   ]
  },
  {
   "cell_type": "raw",
   "metadata": {
    "collapsed": false,
    "deletable": true,
    "editable": true
   },
   "source": [
    "from keras.models import load_model\n",
    "\n",
    "if should_retrain_existing_model:\n",
    "    model_path = model_dir + model_to_continue_training\n",
    "    model = load_model(model_path) \n",
    "    model.summary()"
   ]
  },
  {
   "cell_type": "markdown",
   "metadata": {
    "deletable": true,
    "editable": true
   },
   "source": [
    "# Train (fit) the model agaist given labels"
   ]
  },
  {
   "cell_type": "code",
   "execution_count": null,
   "metadata": {
    "collapsed": false,
    "deletable": true,
    "editable": true
   },
   "outputs": [
    {
     "name": "stdout",
     "output_type": "stream",
     "text": [
      "Train on 7971 samples, validate on 1993 samples\n",
      "Epoch 1/10\n",
      "3328/7971 [===========>..................] - ETA: 376s - loss: 1.5722 - acc: 0.0099    \b\b\b\b\b\b\b\b\b\b\b\b\b\b\b\b\b\b\b\b\b\b\b\b\b\b\b\b\b\b\b\b\b\b\b\b\b\b\b\b\b\b\b\b\b\b\b\b\b\b\b\b\b\b\b\b\b\b\b\b\b\b\b\b\b\b\b\b\b\b\b\b\b\b\b\b\b\b\b\b\b\b\b\b\b\b\b\b\b\b\b\b\b\b\b\b\b\b\b\b\b\b\b\b\b\b\b\b\b\b\b\b\b\b\b\b\b\b\b\b\b\b\b\b\b\b\b\b\b\b\b\b\b\b\b\b\b\b\b\b\b\b\b\b\b\b\b\b\b\b\b\b\b\b\b\b\b\b\b\b\b\b\b\b\b\b\b\b\b\b\b\b\b\b\b\b\b\b\b\b\b\b\b\b\b\b\b\b\b\b\b\b\b\b\b\b\b\b\b\b\b\b\b\b\b\b\b\b\b\b\b\b\b\b\b\b\b\b\b\b\b\b\b\b\b\b\b\b\b\b\b\b\b\b\b\b\b\b\b\b\b\b\b\b\b\b\b\b\b\b\b\b\b\b\b\b\b\b\b\b\b\b\b\b\b\b\b\b\b\b\b\b\b\b\b\b\b\b\b\b\b\b\b\b\b\b\b\b\b\b\b\b\b\b\b\b\b\b\b\b\b\b\b\b\b\b\b\b\b\b\b\b\b\b\b\b\b\b\b\b\b\b\b\b\b\b\b\b\b\b\b\b\b\b\b\b\b\b\b\b\b\b\b\b\b\b\b\b\b\b\b\b\b\b\b\b\b\b\b\b\b\b\b\b\b\b\b\b\b\b\b\b\b\b\b\b\b\b\b\b\b\b\b\b\b\b\b\b\b\b\b\b\b\b\b\b\b\b\b\b\b\b\b\b\b\b\b\b\b\b\b\b\b\b\b\b\b\b\b\b\b\b\b\b\b\b\b\b\b\b\b\b\b\b\b\b\b\b\b\b\b\b\b\b\b\b\b\b\b\b\b\b\b\b\b\b\b\b\b\b\b\b\b\b\b\b\b\b\b\b\b\b\b\b\b\b\b\b\b\b\b\b\b\b\b\b\b\b\b\b\b\b\b\b\b\b\b\b\b\b\b\b\b\b\b\b\b\b\b\b\b\b\b\b\b\b\b\b\b\b\b\b\b\b\b\b\b\b\b\b\b\b\b\b\b\b\b\b\b\b\b\b\b\b\b\b\b\b\b\b\b\b\b\b\b\b\b\b\b\b\b\b\b\b\b\b\b\b\b\b\b\b\b\b\b\b\b\b\b\b\b\b\b\b\b\b\b\b\b\b\b\b\b\b\b\b\b\b\b\b\b\b\b\b\b\b\b\b\b\b\b\b\b\b\b\b\b\b\b\b\b\b\b\b\b\b\b\b\b\b\b\b\b\b\b\b\b\b\b\b\b\b\b\b\b\b\b\b\b\b\b\b\b\b\b\b\b\b\b\b\b\b\b\b\b\b\b\b\b\b\b\b\b\b\b\b\b\b\b\b\b\b\b\b\b\b\b\b\b\b\b\b\b\b\b\b\b\b\b\b\b\b\b\b\b\b\b\b\b\b\b\b\b\b\b\b\b\b\b\b\b\b\b\b\b\b\b\b\b\b\b\b\b\b\b\b\b\b\b\b\b\b\b\b\b\b\b\b\b\b\b\b\b\b\b\b\b\b\b\b\b\b\b\b\b\b\b\b\b\b\b\b\b\b\b\b\b\b\b\b\b\b\b\b\b\b\b\b\b\b\b\b\b\b\b\b\b\b\b\b\b\b\b\b\b\b\b\b\b\b\b\b\b\b\b\b\b\b\b\b\b\b\b\b\b\b\b\b\b\b\b\b\b\b\b\b\b\b\b\b\b\b\b\b\b\b\b\b\b\b\b\b\b\b\b\b\b\b\b\b\b\b\b\b\b\b\b\b\b\b\b\b\b\b\b\b\b\b\b\b\b\b\b\b\b\b\b\b\b\b\b\b\b\b\b\b\b\b\b\b\b\b\b\b\b\b\b\b\b\b\b\b\b\b\b\b\b\b\b\b\b\b\b\b\b\b\b\b\b\b\b\b\b\b\b\b\b\b\b\b\b\b\b\b\b\b\b\b\b\b\b\b\b\b\b\b\b\b\b\b\b\b\b\b\b\b\b\b\b\b\b\b\b\b\b\b\b\b\b\b\b\b\b\b\b\b\b\b\b\b\b\b\b\b\b\b\b\b\b\b"
     ]
    }
   ],
   "source": [
    "# REGRESSION\n",
    "# history = model.fit(training_features, training_labels, nb_epoch=nb_epoch, \n",
    "#                    batch_size=batch_size, verbose=1, validation_split=0.2)\n",
    "\n",
    "# CLASSIFICATION\n",
    "history = model.fit(training_features, y_one_hot, nb_epoch=nb_epoch, \n",
    "                    batch_size=batch_size, verbose=1, validation_split=0.2)"
   ]
  },
  {
   "cell_type": "raw",
   "metadata": {
    "deletable": true,
    "editable": true
   },
   "source": [
    "Train on 2501 samples, validate on 626 samples\n",
    "Epoch 1/5\n",
    "2501/2501 [==============================] - 109s - loss: 0.0207 - acc: 0.3135 - val_loss: 0.0199 - val_acc: 0.3642\n",
    "Epoch 2/5\n",
    "2501/2501 [==============================] - 106s - loss: 0.0207 - acc: 0.3083 - val_loss: 0.0199 - val_acc: 0.3594\n",
    "Epoch 3/5\n",
    "2501/2501 [==============================] - 106s - loss: 0.0207 - acc: 0.3071 - val_loss: 0.0199 - val_acc: 0.3594\n",
    "Epoch 4/5\n",
    "2501/2501 [==============================] - 105s - loss: 0.0207 - acc: 0.3067 - val_loss: 0.0199 - val_acc: 0.3546\n",
    "Epoch 5/5\n",
    "2501/2501 [==============================] - 104s - loss: 0.0206 - acc: 0.3203 - val_loss: 0.0199 - val_acc: 0.3562\n",
    "\n",
    "__\n",
    "Layer (type)                     Output Shape          Param #     Connected to                     \n",
    "====================================================================================================\n",
    "convolution2d_1 (Convolution2D)  (None, 14, 64, 64)    1792        convolution2d_input_2[0][0]      \n",
    "____________________________________________________________________________________________________\n",
    "convolution2d_2 (Convolution2D)  (None, 14, 64, 128)   73856       convolution2d_1[0][0]            \n",
    "____________________________________________________________________________________________________\n",
    "convolution2d_3 (Convolution2D)  (None, 14, 64, 256)   295168      convolution2d_2[0][0]            \n",
    "____________________________________________________________________________________________________\n",
    "flatten_1 (Flatten)              (None, 229376)        0           convolution2d_3[0][0]            \n",
    "____________________________________________________________________________________________________\n",
    "dense_1 (Dense)                  (None, 256)           58720512    flatten_1[0][0]                  \n",
    "____________________________________________________________________________________________________\n",
    "dropout_1 (Dropout)              (None, 256)           0           dense_1[0][0]                    \n",
    "____________________________________________________________________________________________________\n",
    "dense_2 (Dense)                  (None, 256)           65792       dropout_1[0][0]                  \n",
    "____________________________________________________________________________________________________\n",
    "dense_3 (Dense)                  (None, 41)            10537       dense_2[0][0]                    \n",
    "====================================================================================================\n",
    "Total params: 59,167,657\n",
    "Trainable params: 59,167,657\n",
    "Non-trainable params: 0\n",
    "_________________________"
   ]
  },
  {
   "cell_type": "code",
   "execution_count": null,
   "metadata": {
    "collapsed": false,
    "deletable": true,
    "editable": true
   },
   "outputs": [],
   "source": [
    "# list all data in history\n",
    "print(history.history.keys())\n",
    "\n",
    "training_accuracy = str( history.history['acc'][nb_epoch-1])\n",
    "print(\"training_accuracy\", training_accuracy)\n",
    "\n",
    "training_error = str( history.history['loss'][nb_epoch-1])\n",
    "print(\"training_error\", training_error)\n",
    "\n",
    "validation_accuracy = str( history.history['val_acc'][nb_epoch-1])\n",
    "print(\"validation_accuracy\", validation_accuracy)\n",
    "\n",
    "validation_error = str( history.history['val_loss'][nb_epoch-1])\n",
    "print(\"validation_error\", validation_error)"
   ]
  },
  {
   "cell_type": "markdown",
   "metadata": {
    "deletable": true,
    "editable": true
   },
   "source": [
    "# Save the model"
   ]
  },
  {
   "cell_type": "code",
   "execution_count": null,
   "metadata": {
    "collapsed": false,
    "deletable": true,
    "editable": true
   },
   "outputs": [],
   "source": [
    "# creates a HDF5 file '___.h5'\n",
    "model.save(model_dir + model_name + \"_epoch_\" + str(nb_epoch + previous_trained_epochs) \n",
    "           + \"_val_acc_\" + str(validation_accuracy) + \".h5\") \n",
    "#del model  # deletes the existing model\n",
    "#model = load_model('my_model.h5')"
   ]
  },
  {
   "cell_type": "code",
   "execution_count": null,
   "metadata": {
    "collapsed": false,
    "deletable": true,
    "editable": true
   },
   "outputs": [],
   "source": [
    "# summarize history for accuracy\n",
    "plt.plot(history.history['acc'])\n",
    "plt.plot(history.history['val_acc'])\n",
    "plt.title('model accuracy (bigger better)')\n",
    "plt.ylabel('accuracy')\n",
    "plt.xlabel('epoch')\n",
    "plt.legend(['training accuracy', 'testing accuracy'], loc='lower right')\n",
    "plt.show()\n",
    "\n",
    "# summarize history for loss\n",
    "plt.plot(history.history['loss'])\n",
    "plt.plot(history.history['val_loss'])\n",
    "plt.title('Validation error (smaller better)')\n",
    "plt.ylabel('error')\n",
    "plt.xlabel('epochs run')\n",
    "plt.legend(['training error(loss)', 'validation error (loss)'], loc='upper right')\n",
    "plt.show()"
   ]
  },
  {
   "cell_type": "markdown",
   "metadata": {
    "deletable": true,
    "editable": true
   },
   "source": [
    "# Prediction"
   ]
  },
  {
   "cell_type": "raw",
   "metadata": {
    "collapsed": false,
    "deletable": true,
    "editable": true
   },
   "source": [
    "from keras.models import load_model\n",
    "\n",
    "model_path = model_dir + model_to_continue_training\n",
    "print(model_path)\n",
    "\n",
    "model = load_model(model_dir + model_to_continue_training) \n",
    "model.summary()"
   ]
  },
  {
   "cell_type": "code",
   "execution_count": null,
   "metadata": {
    "collapsed": false,
    "deletable": true,
    "editable": true
   },
   "outputs": [],
   "source": [
    "image_name = \"IMG/center_2016_12_01_13_32_43_659.jpg\" # stering 0.05219137\n",
    "original_steering_angle = 0.05219137\n",
    "\n",
    "image_name = \"IMG/center_2016_12_01_13_33_10_579.jpg\" # 0.1287396\n",
    "original_steering_angle = 0.05219137\n",
    "\n",
    "image_name = \"IMG/center_2016_12_01_13_39_28_024.jpg\" # -0.9426954\n",
    "original_steering_angle = -0.9426954\n",
    "\n",
    "image_path =  data_dir + processed_images_dir + image_name\n",
    "print(image_path)\n",
    "image = read_image(image_path)\n",
    "print(image.shape)\n",
    "plt.imshow(image, cmap='gray')\n",
    "plt.show()"
   ]
  },
  {
   "cell_type": "markdown",
   "metadata": {
    "deletable": true,
    "editable": true
   },
   "source": [
    "## Run model.predict(image)"
   ]
  },
  {
   "cell_type": "code",
   "execution_count": null,
   "metadata": {
    "collapsed": false,
    "deletable": true,
    "editable": true
   },
   "outputs": [],
   "source": [
    "predictions = model.predict( image[None, :, :], batch_size=1, verbose=1)"
   ]
  },
  {
   "cell_type": "markdown",
   "metadata": {
    "deletable": true,
    "editable": true
   },
   "source": [
    "## Extract top prediction"
   ]
  },
  {
   "cell_type": "code",
   "execution_count": null,
   "metadata": {
    "collapsed": false,
    "deletable": true,
    "editable": true
   },
   "outputs": [],
   "source": [
    "from DataHelper import predict_class\n",
    "\n",
    "predicted_class = predict_class(predictions, steering_classes)\n",
    "\n",
    "print(\"original steering angle \\n\", original_steering_angle)\n",
    "print(\"top_prediction \\n\", predicted_class )"
   ]
  },
  {
   "cell_type": "markdown",
   "metadata": {
    "deletable": true,
    "editable": true
   },
   "source": [
    "## Plot predictions (peaks are top classes)"
   ]
  },
  {
   "cell_type": "code",
   "execution_count": null,
   "metadata": {
    "collapsed": false,
    "deletable": true,
    "editable": true
   },
   "outputs": [],
   "source": [
    "# summarize history for loss\n",
    "plt.plot(predictions[0])\n",
    "plt.title('predictions')\n",
    "plt.ylabel('y')\n",
    "plt.xlabel('x')\n",
    "plt.legend(['predictions'], loc='upper right')\n",
    "plt.show()"
   ]
  },
  {
   "cell_type": "code",
   "execution_count": null,
   "metadata": {
    "collapsed": true,
    "deletable": true,
    "editable": true
   },
   "outputs": [],
   "source": []
  }
 ],
 "metadata": {
  "kernelspec": {
   "display_name": "conda env carnd-term1",
   "language": "python",
   "name": "carnd-term1"
  },
  "language_info": {
   "codemirror_mode": {
    "name": "ipython",
    "version": 3
   },
   "file_extension": ".py",
   "mimetype": "text/x-python",
   "name": "python",
   "nbconvert_exporter": "python",
   "pygments_lexer": "ipython3",
   "version": "3.5.2"
  },
  "widgets": {
   "state": {},
   "version": "1.1.2"
  }
 },
 "nbformat": 4,
 "nbformat_minor": 2
}
