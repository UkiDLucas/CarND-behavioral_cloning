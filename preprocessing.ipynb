{
 "cells": [
  {
   "cell_type": "markdown",
   "metadata": {},
   "source": [
    "# Preprocessing Notes\n",
    "\n",
    "I believe there are 2 crucial components to this experiment that are **more important** than type of Neural Network:\n",
    "- collection of good data with various scenarios\n",
    "- preporcesing of the images to remove unnecessary training burden\n",
    "\n",
    "## Steps \n",
    "\n",
    "- Crop the images\n",
    "- Apply mask to leave only essential data\n",
    "- Grayscale (see \"Conclusions and assumptions\")\n",
    "- Blur the image to remove pixelation and smooth the embankments\n",
    "- POSSIBLY: Detect \"Canny Edges\"\n",
    "- POSSIBLY: Use Hugh algorithm to connect dots (draw lines)\n",
    "- POSSIBLY: throw out **everything** else except left/right lanes\n",
    "- Scale down the images to 28x28 if possible\n",
    "- Visually verify all kinds of landscapes \n",
    "    - if I (human) can tell immediately how to steer then I can teach Neural Network to do so, too."
   ]
  },
  {
   "cell_type": "code",
   "execution_count": 13,
   "metadata": {
    "collapsed": false
   },
   "outputs": [
    {
     "name": "stdout",
     "output_type": "stream",
     "text": [
      "['center', 'left', 'right', 'steering', 'throttle', 'brake', 'speed']\n",
      "['IMG/center_2016_12_01_13_30_48_287.jpg', ' IMG/left_2016_12_01_13_30_48_287.jpg', ' IMG/right_2016_12_01_13_30_48_287.jpg', ' 0', ' 0', ' 0', ' 22.14829']\n",
      "['IMG/center_2016_12_01_13_30_48_404.jpg', ' IMG/left_2016_12_01_13_30_48_404.jpg', ' IMG/right_2016_12_01_13_30_48_404.jpg', ' 0', ' 0', ' 0', ' 21.87963']\n",
      "['IMG/center_2016_12_01_13_31_12_937.jpg', ' IMG/left_2016_12_01_13_31_12_937.jpg', ' IMG/right_2016_12_01_13_31_12_937.jpg', ' 0', ' 0', ' 0', ' 1.453011']\n",
      "row_counter 8037\n",
      "headers ['center', 'left', 'right', 'steering', 'throttle', 'brake', 'speed']\n"
     ]
    }
   ],
   "source": [
    "data_dir = \"../../../DATA/behavioral_cloning_data/\"\n",
    "import csv\n",
    "\n",
    "# TODO implement batch_from, batch_to - I did not need it for 8037 rows\n",
    "# TODO implement has_header_row\n",
    "def read_csv(file_path):\n",
    "    # Opening spreadsheet to read in TEXT mode: 'rt'\n",
    "    with open(file_path, 'rt') as csvfile:\n",
    "        spamreader = csv.reader(csvfile, delimiter=',', quotechar='\"') # defaults\n",
    "        row_counter = 0\n",
    "        headers = []\n",
    "        data = []\n",
    "        for row in spamreader:\n",
    "            row_counter = row_counter + 1\n",
    "            \n",
    "            if row_counter == 1:\n",
    "                headers = row\n",
    "                # print (type(row))\n",
    "                # print ( row)\n",
    "                # print ('\\t '.join(row))\n",
    "            elif 1 < row_counter < 5:\n",
    "                # print (type(row))\n",
    "                # print ( row)\n",
    "                # print ('\\t '.join(row))\n",
    "                data.append(row)\n",
    "            else:\n",
    "                data.append(row)\n",
    "        print(\"row_counter\", row_counter)\n",
    "        return headers, data\n",
    "    \n",
    "# TEST:    \n",
    "headers, data = read_csv(file_path = data_dir + 'driving_log.csv')\n",
    "print(\"headers\",headers)\n",
    "print(\"data\",data[])"
   ]
  },
  {
   "cell_type": "code",
   "execution_count": 36,
   "metadata": {
    "collapsed": false
   },
   "outputs": [
    {
     "name": "stdout",
     "output_type": "stream",
     "text": [
      " 21.87963\n"
     ]
    }
   ],
   "source": [
    "column_image_center = 0\n",
    "column_image_left = 1\n",
    "column_image_right = 2\n",
    "column_steering = 3\n",
    "column_throttle = 4\n",
    "column_brake = 5\n",
    "column_speed = 6\n",
    "record_number = 1\n",
    "print(data[record_number][column_speed])"
   ]
  },
  {
   "cell_type": "code",
   "execution_count": null,
   "metadata": {
    "collapsed": false
   },
   "outputs": [],
   "source": []
  },
  {
   "cell_type": "code",
   "execution_count": null,
   "metadata": {
    "collapsed": true
   },
   "outputs": [],
   "source": []
  }
 ],
 "metadata": {
  "kernelspec": {
   "display_name": "conda env tensorflow_cpu",
   "language": "python",
   "name": "tensorflow_cpu"
  },
  "language_info": {
   "codemirror_mode": {
    "name": "ipython",
    "version": 3
   },
   "file_extension": ".py",
   "mimetype": "text/x-python",
   "name": "python",
   "nbconvert_exporter": "python",
   "pygments_lexer": "ipython3",
   "version": "3.5.2"
  }
 },
 "nbformat": 4,
 "nbformat_minor": 2
}
