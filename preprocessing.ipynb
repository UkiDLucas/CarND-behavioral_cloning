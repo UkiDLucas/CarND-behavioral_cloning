{
 "cells": [
  {
   "cell_type": "markdown",
   "metadata": {},
   "source": [
    "# Preprocessing Notes\n",
    "\n",
    "I believe there are 2 crucial components to this experiment that are **more important** than type of Neural Network:\n",
    "- collection of good data with various scenarios\n",
    "- preporcesing of the images to remove unnecessary training burden\n",
    "\n",
    "## Steps \n",
    "\n",
    "- Crop the images\n",
    "- Apply mask to leave only essential data\n",
    "- Grayscale (see \"Conclusions and assumptions\")\n",
    "- Blur the image to remove pixelation and smooth the embankments\n",
    "- POSSIBLY: Detect \"Canny Edges\"\n",
    "- POSSIBLY: Use Hugh algorithm to connect dots (draw lines)\n",
    "- POSSIBLY: throw out **everything** else except left/right lanes\n",
    "- Scale down the images to 28x28 if possible\n",
    "- Visually verify all kinds of landscapes \n",
    "    - if I (human) can tell immediately how to steer then I can teach Neural Network to do so, too."
   ]
  },
  {
   "cell_type": "code",
   "execution_count": null,
   "metadata": {
    "collapsed": true
   },
   "outputs": [],
   "source": []
  }
 ],
 "metadata": {
  "kernelspec": {
   "display_name": "conda env tensorflow_cpu",
   "language": "python",
   "name": "tensorflow_cpu"
  },
  "language_info": {
   "codemirror_mode": {
    "name": "ipython",
    "version": 3
   },
   "file_extension": ".py",
   "mimetype": "text/x-python",
   "name": "python",
   "nbconvert_exporter": "python",
   "pygments_lexer": "ipython3",
   "version": "3.5.2"
  }
 },
 "nbformat": 4,
 "nbformat_minor": 2
}
