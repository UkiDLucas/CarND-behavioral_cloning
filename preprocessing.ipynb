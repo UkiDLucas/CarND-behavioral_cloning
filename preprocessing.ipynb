{
 "cells": [
  {
   "cell_type": "markdown",
   "metadata": {},
   "source": [
    "# Preprocessing Notes\n",
    "\n",
    "I believe there are 2 crucial components to this experiment that are **more important** than type of Neural Network:\n",
    "- collection of good data with various scenarios\n",
    "- preporcesing of the images to remove unnecessary training burden\n",
    "\n",
    "## Steps \n",
    "\n",
    "- Crop the images\n",
    "- Apply mask to leave only essential data\n",
    "- Grayscale (see \"Conclusions and assumptions\")\n",
    "- Blur the image to remove pixelation and smooth the embankments\n",
    "- POSSIBLY: Detect \"Canny Edges\"\n",
    "- POSSIBLY: Use Hugh algorithm to connect dots (draw lines)\n",
    "- POSSIBLY: throw out **everything** else except left/right lanes\n",
    "- Scale down the images to 28x28 if possible\n",
    "- Visually verify all kinds of landscapes \n",
    "    - if I (human) can tell immediately how to steer then I can teach Neural Network to do so, too."
   ]
  },
  {
   "cell_type": "code",
   "execution_count": 1,
   "metadata": {
    "collapsed": false
   },
   "outputs": [
    {
     "name": "stdout",
     "output_type": "stream",
     "text": [
      "row_counter 8037\n",
      "headers \n",
      " ['center', 'left', 'right', 'steering', 'throttle', 'brake', 'speed']\n",
      "3rd row of data \n",
      " [['IMG/center_2016_12_01_13_31_12_937.jpg', ' IMG/left_2016_12_01_13_31_12_937.jpg', ' IMG/right_2016_12_01_13_31_12_937.jpg', ' 0', ' 0', ' 0', ' 1.453011']]\n"
     ]
    }
   ],
   "source": [
    "data_dir = \"../../../DATA/behavioral_cloning_data/\"\n",
    "import csv\n",
    "\n",
    "# TODO implement batch_from, batch_to - I did not need it for 8037 rows\n",
    "# TODO implement has_header_row\n",
    "def read_csv(file_path):\n",
    "    # Opening spreadsheet to read in TEXT mode: 'rt'\n",
    "    with open(file_path, 'rt') as csvfile:\n",
    "        # Most common format of CSV, TODO improve\n",
    "        spamreader = csv.reader(csvfile, delimiter=',', quotechar='\"') \n",
    "        row_counter = 0\n",
    "        headers = []\n",
    "        data = []\n",
    "        for row in spamreader:\n",
    "            row_counter = row_counter + 1\n",
    "            \n",
    "            if row_counter == 1:\n",
    "                headers = row\n",
    "                # print (type(row))\n",
    "                # print ( row)\n",
    "                # print ('\\t '.join(row))\n",
    "            elif 1 < row_counter < 3:\n",
    "                # print (type(row))\n",
    "                # print ( row)\n",
    "                # print ('\\t '.join(row))\n",
    "                data.append(row)\n",
    "            else:\n",
    "                data.append(row)\n",
    "        print(\"row_counter\", row_counter)\n",
    "        return headers, data\n",
    "    \n",
    "# TEST:    \n",
    "headers, data = read_csv(file_path = data_dir + 'driving_log.csv')\n",
    "print(\"headers \\n\",headers)\n",
    "print(\"3rd row of data \\n\",data[2:3])"
   ]
  },
  {
   "cell_type": "code",
   "execution_count": 2,
   "metadata": {
    "collapsed": false
   },
   "outputs": [
    {
     "name": "stdout",
     "output_type": "stream",
     "text": [
      "print ~53rd speed value [2.124567, 3.286475]\n",
      "print ~53rd steering value [0.0617599, 0.05219137]\n"
     ]
    }
   ],
   "source": [
    "def get_image_center_values(matrix):\n",
    "    column_image_center = 0\n",
    "    return [row[column_image_center] for row in matrix]\n",
    "\n",
    "def get_image_left_values(matrix):\n",
    "    column_image_left = 1\n",
    "    return [row[column_image_left] for row in matrix]\n",
    "\n",
    "def get_image_right_values(matrix):\n",
    "    column_image_right = 2\n",
    "    return [row[column_image_right] for row in matrix]\n",
    "\n",
    "def get_steering_values(matrix):\n",
    "    column_steering = 3\n",
    "    return [float(row[column_steering]) for row in matrix]\n",
    "\n",
    "def get_throttle_values(matrix):\n",
    "    column_throttle = 4\n",
    "    return [float(row[column_throttle]) for row in matrix]\n",
    "\n",
    "def get_brake_values(matrix):\n",
    "    column_brake = 5\n",
    "    return [float(row[column_brake]) for row in matrix]\n",
    "\n",
    "def get_speed_values(matrix):\n",
    "    column_speed = 6\n",
    "    return [float(row[column_speed]) for row in matrix]\n",
    "\n",
    "#TEST:\n",
    "speed_values = get_speed_values(data)\n",
    "print(\"print ~53rd speed value\", speed_values[51:53]) \n",
    "\n",
    "steering_values = get_steering_values(data)\n",
    "print(\"print ~53rd steering value\", steering_values[51:53]) "
   ]
  },
  {
   "cell_type": "code",
   "execution_count": null,
   "metadata": {
    "collapsed": false
   },
   "outputs": [],
   "source": []
  },
  {
   "cell_type": "code",
   "execution_count": null,
   "metadata": {
    "collapsed": false
   },
   "outputs": [],
   "source": []
  },
  {
   "cell_type": "code",
   "execution_count": null,
   "metadata": {
    "collapsed": false
   },
   "outputs": [],
   "source": []
  },
  {
   "cell_type": "code",
   "execution_count": 3,
   "metadata": {
    "collapsed": false
   },
   "outputs": [],
   "source": [
    "import numpy as np\n",
    "import random\n",
    "import math\n",
    "from matplotlib import pyplot as plt\n",
    "\n",
    "def margin(value):\n",
    "    return value*(5/100)\n",
    "\n",
    "def plot_histogram(name, values, change_step):\n",
    "    \n",
    "    min_value = min(values)\n",
    "    print(\"min_value\", min_value)\n",
    "    max_value = max(values)\n",
    "    print(\"max_value\", max_value)\n",
    "    \n",
    "    spread = max_value-min_value\n",
    "    print(\"spread\", spread)\n",
    "    recommended_bins = math.ceil(spread/change_step)\n",
    "    print(\"recommended number of classes\", recommended_bins)\n",
    "    \n",
    "    bins = np.linspace(math.floor(min(values)), \n",
    "                       math.ceil(max(values)),\n",
    "                       recommended_bins)\n",
    "\n",
    "    plt.xlim([\n",
    "        min_value - margin(min_value), \n",
    "        max_value + margin(max_value)])\n",
    "\n",
    "    plt.hist(values, bins=bins, alpha=0.5)\n",
    "    plt.title('Distribution of ' + name)\n",
    "    plt.xlabel('values')\n",
    "    plt.ylabel('occurance')\n",
    "\n",
    "    plt.show()\n"
   ]
  },
  {
   "cell_type": "markdown",
   "metadata": {},
   "source": [
    "# Steering value distribution\n",
    "\n",
    "It appears, as expected that most of the driving is straight and the allowed values are from -1 to +1.\n",
    "\n",
    "Most values are in the -0.25 to +0.25 range.\n",
    "\n",
    "I would **err on the prudent side** and avoid the values above |0.25|."
   ]
  },
  {
   "cell_type": "code",
   "execution_count": 4,
   "metadata": {
    "collapsed": false
   },
   "outputs": [
    {
     "name": "stdout",
     "output_type": "stream",
     "text": [
      "min_value -0.9426954\n",
      "max_value 1.0\n",
      "spread 1.9426953999999999\n",
      "recommended number of classes 39\n"
     ]
    },
    {
     "data": {
      "image/png": "[encoded data removed]",
      "text/plain": [
       "<matplotlib.figure.Figure at 0x104754a90>"
      ]
     },
     "metadata": {},
     "output_type": "display_data"
    }
   ],
   "source": [
    "change_step=0.05 # test data changes\n",
    "plot_histogram(\"steering values\", steering_values, change_step)"
   ]
  },
  {
   "cell_type": "markdown",
   "metadata": {},
   "source": [
    "# Speed value distribution\n",
    "\n",
    "It appears, most of the driving is done at top speed of 30mph.\n",
    "\n",
    "There is no sense to change speed in smaller increments than 1 mph."
   ]
  },
  {
   "cell_type": "code",
   "execution_count": 5,
   "metadata": {
    "collapsed": false
   },
   "outputs": [
    {
     "name": "stdout",
     "output_type": "stream",
     "text": [
      "min_value 0.5024896\n",
      "max_value 30.70936\n",
      "spread 30.2068704\n",
      "recommended number of classes 31\n"
     ]
    },
    {
     "data": {
      "image/png": "[encoded data removed]",
      "text/plain": [
       "<matplotlib.figure.Figure at 0x11140b780>"
      ]
     },
     "metadata": {},
     "output_type": "display_data"
    }
   ],
   "source": [
    "change_step=1 # test data changes\n",
    "plot_histogram(\"speed values\", speed_values, change_step)"
   ]
  },
  {
   "cell_type": "code",
   "execution_count": null,
   "metadata": {
    "collapsed": true
   },
   "outputs": [],
   "source": []
  }
 ],
 "metadata": {
  "kernelspec": {
   "display_name": "conda env tensorflow_cpu",
   "language": "python",
   "name": "tensorflow_cpu"
  },
  "language_info": {
   "codemirror_mode": {
    "name": "ipython",
    "version": 3
   },
   "file_extension": ".py",
   "mimetype": "text/x-python",
   "name": "python",
   "nbconvert_exporter": "python",
   "pygments_lexer": "ipython3",
   "version": "3.5.2"
  }
 },
 "nbformat": 4,
 "nbformat_minor": 2
}
