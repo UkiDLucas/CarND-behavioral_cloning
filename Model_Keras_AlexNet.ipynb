{
 "cells": [
  {
   "cell_type": "code",
   "execution_count": 2,
   "metadata": {
    "collapsed": false
   },
   "outputs": [
    {
     "name": "stderr",
     "output_type": "stream",
     "text": [
      "Using TensorFlow backend.\n"
     ]
    },
    {
     "ename": "ImportError",
     "evalue": "No module named 'pydot'",
     "output_type": "error",
     "traceback": [
      "\u001b[0;31m---------------------------------------------------------------------------\u001b[0m",
      "\u001b[0;31mImportError\u001b[0m                               Traceback (most recent call last)",
      "\u001b[0;32m/Users/ukilucas/anaconda3/envs/tensorflow_cpu/lib/python3.5/site-packages/keras/utils/visualize_util.py\u001b[0m in \u001b[0;36m<module>\u001b[0;34m()\u001b[0m\n\u001b[1;32m      2\u001b[0m     \u001b[0;31m# pydot-ng is a fork of pydot that is better maintained\u001b[0m\u001b[0;34m\u001b[0m\u001b[0;34m\u001b[0m\u001b[0m\n\u001b[0;32m----> 3\u001b[0;31m     \u001b[0;32mimport\u001b[0m \u001b[0mpydot_ng\u001b[0m \u001b[0;32mas\u001b[0m \u001b[0mpydot\u001b[0m\u001b[0;34m\u001b[0m\u001b[0m\n\u001b[0m\u001b[1;32m      4\u001b[0m \u001b[0;32mexcept\u001b[0m \u001b[0mImportError\u001b[0m\u001b[0;34m:\u001b[0m\u001b[0;34m\u001b[0m\u001b[0m\n",
      "\u001b[0;31mImportError\u001b[0m: No module named 'pydot_ng'",
      "\nDuring handling of the above exception, another exception occurred:\n",
      "\u001b[0;31mImportError\u001b[0m                               Traceback (most recent call last)",
      "\u001b[0;32m<ipython-input-2-331ded1ce5a6>\u001b[0m in \u001b[0;36m<module>\u001b[0;34m()\u001b[0m\n\u001b[1;32m      7\u001b[0m \u001b[0;32mfrom\u001b[0m \u001b[0mkeras\u001b[0m\u001b[0;34m.\u001b[0m\u001b[0mmodels\u001b[0m \u001b[0;32mimport\u001b[0m \u001b[0mModel\u001b[0m\u001b[0;34m\u001b[0m\u001b[0m\n\u001b[1;32m      8\u001b[0m \u001b[0;32mfrom\u001b[0m \u001b[0mkeras\u001b[0m \u001b[0;32mimport\u001b[0m \u001b[0mregularizers\u001b[0m\u001b[0;34m\u001b[0m\u001b[0m\n\u001b[0;32m----> 9\u001b[0;31m \u001b[0;32mfrom\u001b[0m \u001b[0mkeras\u001b[0m\u001b[0;34m.\u001b[0m\u001b[0mutils\u001b[0m\u001b[0;34m.\u001b[0m\u001b[0mvisualize_util\u001b[0m \u001b[0;32mimport\u001b[0m \u001b[0mplot\u001b[0m\u001b[0;34m\u001b[0m\u001b[0m\n\u001b[0m\u001b[1;32m     10\u001b[0m \u001b[0;32mfrom\u001b[0m \u001b[0mKerasLayers\u001b[0m\u001b[0;34m.\u001b[0m\u001b[0mCustom_layers\u001b[0m \u001b[0;32mimport\u001b[0m \u001b[0mLRN2D\u001b[0m\u001b[0;34m\u001b[0m\u001b[0m\n\u001b[1;32m     11\u001b[0m \u001b[0;34m\u001b[0m\u001b[0m\n",
      "\u001b[0;32m/Users/ukilucas/anaconda3/envs/tensorflow_cpu/lib/python3.5/site-packages/keras/utils/visualize_util.py\u001b[0m in \u001b[0;36m<module>\u001b[0;34m()\u001b[0m\n\u001b[1;32m      4\u001b[0m \u001b[0;32mexcept\u001b[0m \u001b[0mImportError\u001b[0m\u001b[0;34m:\u001b[0m\u001b[0;34m\u001b[0m\u001b[0m\n\u001b[1;32m      5\u001b[0m     \u001b[0;31m# fall back on pydot if necessary\u001b[0m\u001b[0;34m\u001b[0m\u001b[0;34m\u001b[0m\u001b[0m\n\u001b[0;32m----> 6\u001b[0;31m     \u001b[0;32mimport\u001b[0m \u001b[0mpydot\u001b[0m\u001b[0;34m\u001b[0m\u001b[0m\n\u001b[0m\u001b[1;32m      7\u001b[0m \u001b[0;32mif\u001b[0m \u001b[0;32mnot\u001b[0m \u001b[0mpydot\u001b[0m\u001b[0;34m.\u001b[0m\u001b[0mfind_graphviz\u001b[0m\u001b[0;34m(\u001b[0m\u001b[0;34m)\u001b[0m\u001b[0;34m:\u001b[0m\u001b[0;34m\u001b[0m\u001b[0m\n\u001b[1;32m      8\u001b[0m     raise RuntimeError('Failed to import pydot. You must install pydot'\n",
      "\u001b[0;31mImportError\u001b[0m: No module named 'pydot'"
     ]
    }
   ],
   "source": [
    "# AlexNet copied from:\n",
    "# https://github.com/dandxy89/ImageModels/blob/master/AlexNet.py\n",
    "\n",
    "from keras.layers import Convolution2D, MaxPooling2D, ZeroPadding2D\n",
    "from keras.layers import Flatten, Dense, Dropout\n",
    "from keras.layers import Input\n",
    "from keras.models import Model\n",
    "from keras import regularizers\n",
    "from keras.utils.visualize_util import plot\n",
    "from KerasLayers.Custom_layers import LRN2D\n",
    "\n",
    "NB_CLASS = 1000         # number of classes\n",
    "LEARNING_RATE = 0.01\n",
    "MOMENTUM = 0.9\n",
    "ALPHA = 0.0001\n",
    "BETA = 0.75\n",
    "GAMMA = 0.1\n",
    "DROPOUT = 0.5\n",
    "WEIGHT_DECAY = 0.0005\n",
    "LRN2D_norm = True       # whether to use batch normalization\n",
    "# Theano - 'th' (channels, width, height)\n",
    "# Tensorflow - 'tf' (width, height, channels)\n",
    "DIM_ORDERING = 'tf'\n",
    "\n",
    "def build_model(weights_path=None): \n",
    "    # Define image input layer\n",
    "    if DIM_ORDERING == 'th':\n",
    "        INP_SHAPE = (3, 224, 224)  # 3 - Number of RGB Colours\n",
    "        img_input = Input(shape=INP_SHAPE)\n",
    "        CONCAT_AXIS = 1\n",
    "    elif DIM_ORDERING == 'tf':\n",
    "        INP_SHAPE = (224, 224, 3)  # 3 - Number of RGB Colours\n",
    "        img_input = Input(shape=INP_SHAPE)\n",
    "        CONCAT_AXIS = 3\n",
    "    else:\n",
    "        raise Exception('Invalid dim ordering: ' + str(DIM_ORDERING))\n",
    "\n",
    "    # Channel 1 - Convolution Net Layer 1\n",
    "    model = conv2D_lrn2d(\n",
    "        img_input, 3, 11, 11, subsample=(\n",
    "            1, 1), border_mode='same')\n",
    "    model = MaxPooling2D(\n",
    "        strides=(\n",
    "            4, 4), pool_size=(\n",
    "                4, 4), dim_ordering=DIM_ORDERING)(model)\n",
    "    model = ZeroPadding2D(padding=(1, 1), dim_ordering=DIM_ORDERING)(x)\n",
    "\n",
    "    # Channel 1 - Convolution Net Layer 2\n",
    "    model = conv2D_lrn2d(x, 48, 55, 55, subsample=(1, 1), border_mode='same')\n",
    "    model = MaxPooling2D(\n",
    "        strides=(\n",
    "            2, 2), pool_size=(\n",
    "                2, 2), dim_ordering=DIM_ORDERING)(model)\n",
    "    model = ZeroPadding2D(padding=(1, 1), dim_ordering=DIM_ORDERING)(model)\n",
    "\n",
    "    # Channel 1 - Convolution Net Layer 3\n",
    "    model = conv2D_lrn2d(x, 128, 27, 27, subsample=(1, 1), border_mode='same')\n",
    "    model = MaxPooling2D(\n",
    "        strides=(\n",
    "            2, 2), pool_size=(\n",
    "                2, 2), dim_ordering=DIM_ORDERING)(model)\n",
    "    model = ZeroPadding2D(padding=(1, 1), dim_ordering=DIM_ORDERING)(model)\n",
    "\n",
    "    # Channel 1 - Convolution Net Layer 4\n",
    "    model = conv2D_lrn2d(x, 192, 13, 13, subsample=(1, 1), border_mode='same')\n",
    "    model = ZeroPadding2D(padding=(1, 1), dim_ordering=DIM_ORDERING)(x)\n",
    "\n",
    "    model Channel 1 - Convolution Net Layer 5\n",
    "    model = conv2D_lrn2d(x, 192, 13, 13, subsample=(1, 1), border_mode='same')\n",
    "    model = ZeroPadding2D(padding=(1, 1), dim_ordering=DIM_ORDERING)(model)\n",
    "\n",
    "    # Channel 1 - Cov Net Layer 6\n",
    "    model = conv2D_lrn2d(model, 128, 27, 27, subsample=(1, 1), border_mode='same')\n",
    "    model = MaxPooling2D(\n",
    "        strides=(\n",
    "            2, 2), pool_size=(\n",
    "                2, 2), dim_ordering=DIM_ORDERING)(x)\n",
    "    model = ZeroPadding2D(padding=(1, 1), dim_ordering=DIM_ORDERING)(x)\n",
    "\n",
    "    # Channel 1 - Cov Net Layer 7\n",
    "    model = Flatten()(model)\n",
    "    model = Dense(2048, activation='relu')(model)\n",
    "    model = Dropout(DROPOUT)(model)\n",
    "\n",
    "    # Channel 1 - Cov Net Layer 8\n",
    "    model = Dense(2048, activation='relu')(model)\n",
    "    model = Dropout(DROPOUT)(model)\n",
    "\n",
    "    # Final Channel - Cov Net 9\n",
    "    model = Dense(output_dim=NB_CLASS,\n",
    "              activation='softmax')(model)\n",
    "    \n",
    "    if weights_path:\n",
    "        model.load_weights(weights_path)\n",
    "    return model, img_input, CONCAT_AXIS, INP_SHAPE, DIM_ORDERING\n"
   ]
  },
  {
   "cell_type": "code",
   "execution_count": null,
   "metadata": {
    "collapsed": true
   },
   "outputs": [],
   "source": []
  }
 ],
 "metadata": {
  "kernelspec": {
   "display_name": "conda env tensorflow_cpu",
   "language": "python",
   "name": "tensorflow_cpu"
  },
  "language_info": {
   "codemirror_mode": {
    "name": "ipython",
    "version": 3
   },
   "file_extension": ".py",
   "mimetype": "text/x-python",
   "name": "python",
   "nbconvert_exporter": "python",
   "pygments_lexer": "ipython3",
   "version": "3.5.2"
  }
 },
 "nbformat": 4,
 "nbformat_minor": 2
}
