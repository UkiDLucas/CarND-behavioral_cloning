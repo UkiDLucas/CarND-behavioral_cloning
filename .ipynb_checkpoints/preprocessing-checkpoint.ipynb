{
 "cells": [
  {
   "cell_type": "markdown",
   "metadata": {},
   "source": [
    "# Preprocessing Notes\n",
    "\n",
    "I believe there are 2 crucial components to this experiment that are **more important** than type of Neural Network:\n",
    "- collection of good data with various scenarios\n",
    "- preporcesing of the images to remove unnecessary training burden\n",
    "\n",
    "## Steps \n",
    "\n",
    "- Crop the images\n",
    "- Apply mask to leave only essential data\n",
    "- Grayscale (see \"Conclusions and assumptions\")\n",
    "- Blur the image to remove pixelation and smooth the embankments\n",
    "- POSSIBLY: Detect \"Canny Edges\"\n",
    "- POSSIBLY: Use Hugh algorithm to connect dots (draw lines)\n",
    "- POSSIBLY: throw out **everything** else except left/right lanes\n",
    "- Scale down the images to 28x28 if possible\n",
    "- Visually verify all kinds of landscapes \n",
    "    - if I (human) can tell immediately how to steer then I can teach Neural Network to do so, too."
   ]
  },
  {
   "cell_type": "code",
   "execution_count": 1,
   "metadata": {
    "collapsed": false
   },
   "outputs": [
    {
     "name": "stdout",
     "output_type": "stream",
     "text": [
      "row_counter 8037\n",
      "headers \n",
      " ['center', 'left', 'right', 'steering', 'throttle', 'brake', 'speed']\n",
      "3rd row of data \n",
      " [['IMG/center_2016_12_01_13_31_12_937.jpg', ' IMG/left_2016_12_01_13_31_12_937.jpg', ' IMG/right_2016_12_01_13_31_12_937.jpg', ' 0', ' 0', ' 0', ' 1.453011']]\n"
     ]
    }
   ],
   "source": [
    "data_dir = \"../../../DATA/behavioral_cloning_data/\"\n",
    "import csv\n",
    "\n",
    "# TODO implement batch_from, batch_to - I did not need it for 8037 rows\n",
    "# TODO implement has_header_row\n",
    "def read_csv(file_path):\n",
    "    # Opening spreadsheet to read in TEXT mode: 'rt'\n",
    "    with open(file_path, 'rt') as csvfile:\n",
    "        # Most common format of CSV, TODO improve\n",
    "        spamreader = csv.reader(csvfile, delimiter=',', quotechar='\"') \n",
    "        row_counter = 0\n",
    "        headers = []\n",
    "        data = []\n",
    "        for row in spamreader:\n",
    "            row_counter = row_counter + 1\n",
    "            \n",
    "            if row_counter == 1:\n",
    "                headers = row\n",
    "                # print (type(row))\n",
    "                # print ( row)\n",
    "                # print ('\\t '.join(row))\n",
    "            elif 1 < row_counter < 3:\n",
    "                # print (type(row))\n",
    "                # print ( row)\n",
    "                # print ('\\t '.join(row))\n",
    "                data.append(row)\n",
    "            else:\n",
    "                data.append(row)\n",
    "        print(\"row_counter\", row_counter)\n",
    "        return headers, data\n",
    "    \n",
    "# TEST:    \n",
    "headers, data = read_csv(file_path = data_dir + 'driving_log.csv')\n",
    "print(\"headers \\n\",headers)\n",
    "print(\"3rd row of data \\n\",data[2:3])"
   ]
  },
  {
   "cell_type": "code",
   "execution_count": 2,
   "metadata": {
    "collapsed": false
   },
   "outputs": [
    {
     "name": "stdout",
     "output_type": "stream",
     "text": [
      "print ~53rd speed value [2.124567, 3.286475]\n",
      "print ~53rd steering value [0.0617599, 0.05219137]\n"
     ]
    }
   ],
   "source": [
    "def get_image_center_values(matrix):\n",
    "    column_image_center = 0\n",
    "    return [row[column_image_center] for row in matrix]\n",
    "\n",
    "def get_image_left_values(matrix):\n",
    "    column_image_left = 1\n",
    "    return [row[column_image_left] for row in matrix]\n",
    "\n",
    "def get_image_right_values(matrix):\n",
    "    column_image_right = 2\n",
    "    return [row[column_image_right] for row in matrix]\n",
    "\n",
    "def get_steering_values(matrix):\n",
    "    column_steering = 3\n",
    "    return [float(row[column_steering]) for row in matrix]\n",
    "\n",
    "def get_throttle_values(matrix):\n",
    "    column_throttle = 4\n",
    "    return [float(row[column_throttle]) for row in matrix]\n",
    "\n",
    "def get_brake_values(matrix):\n",
    "    column_brake = 5\n",
    "    return [float(row[column_brake]) for row in matrix]\n",
    "\n",
    "def get_speed_values(matrix):\n",
    "    column_speed = 6\n",
    "    return [float(row[column_speed]) for row in matrix]\n",
    "\n",
    "#TEST:\n",
    "speed_values = get_speed_values(data)\n",
    "print(\"print ~53rd speed value\", speed_values[51:53]) \n",
    "\n",
    "steering_values = get_steering_values(data)\n",
    "print(\"print ~53rd steering value\", steering_values[51:53]) "
   ]
  },
  {
   "cell_type": "code",
   "execution_count": null,
   "metadata": {
    "collapsed": false
   },
   "outputs": [],
   "source": []
  },
  {
   "cell_type": "code",
   "execution_count": null,
   "metadata": {
    "collapsed": false
   },
   "outputs": [],
   "source": []
  },
  {
   "cell_type": "code",
   "execution_count": null,
   "metadata": {
    "collapsed": false
   },
   "outputs": [],
   "source": []
  },
  {
   "cell_type": "code",
   "execution_count": 3,
   "metadata": {
    "collapsed": false
   },
   "outputs": [],
   "source": [
    "import numpy as np\n",
    "import random\n",
    "import math\n",
    "from matplotlib import pyplot as plt\n",
    "\n",
    "def margin(value):\n",
    "    return value*(5/100)\n",
    "\n",
    "def plot_histogram(name, values, change_step):\n",
    "    \n",
    "    min_value = min(values)\n",
    "    print(\"min_value\", min_value)\n",
    "    max_value = max(values)\n",
    "    print(\"max_value\", max_value)\n",
    "    \n",
    "    spread = max_value-min_value\n",
    "    print(\"spread\", spread)\n",
    "    recommended_bins = math.ceil(spread/change_step)\n",
    "    print(\"recommended number of classes\", recommended_bins)\n",
    "    \n",
    "    bins = np.linspace(math.floor(min(values)), \n",
    "                       math.ceil(max(values)),\n",
    "                       recommended_bins)\n",
    "\n",
    "    plt.xlim([\n",
    "        min_value - margin(min_value), \n",
    "        max_value + margin(max_value)])\n",
    "\n",
    "    plt.hist(values, bins=bins, alpha=0.5)\n",
    "    plt.title('Distribution of ' + name)\n",
    "    plt.xlabel('values')\n",
    "    plt.ylabel('occurance')\n",
    "\n",
    "    plt.show()\n"
   ]
  },
  {
   "cell_type": "markdown",
   "metadata": {},
   "source": [
    "# Steering value distribution\n",
    "\n",
    "It appears, as expected that most of the driving is straight and the allowed values are from -1 to +1.\n",
    "\n",
    "Most values are in the -0.25 to +0.25 range.\n",
    "\n",
    "I would **err on the prudent side** and avoid the values above |0.25|."
   ]
  },
  {
   "cell_type": "code",
   "execution_count": 4,
   "metadata": {
    "collapsed": false
   },
   "outputs": [
    {
     "name": "stdout",
     "output_type": "stream",
     "text": [
      "min_value -0.9426954\n",
      "max_value 1.0\n",
      "spread 1.9426953999999999\n",
      "recommended number of classes 39\n"
     ]
    },
    {
     "data": {
      "image/png": "[encoded data removed]",
      "text/plain": [
       "<matplotlib.figure.Figure at 0x104f3ecf8>"
      ]
     },
     "metadata": {},
     "output_type": "display_data"
    }
   ],
   "source": [
    "change_step=0.05 # test data changes\n",
    "plot_histogram(\"steering values\", steering_values, change_step)"
   ]
  },
  {
   "cell_type": "markdown",
   "metadata": {},
   "source": [
    "# Speed value distribution\n",
    "\n",
    "It appears, most of the driving is done at top speed of 30mph.\n",
    "\n",
    "There is no sense to change speed in smaller increments than 1 mph."
   ]
  },
  {
   "cell_type": "code",
   "execution_count": 5,
   "metadata": {
    "collapsed": false
   },
   "outputs": [
    {
     "name": "stdout",
     "output_type": "stream",
     "text": [
      "min_value 0.5024896\n",
      "max_value 30.70936\n",
      "spread 30.2068704\n",
      "recommended number of classes 31\n"
     ]
    },
    {
     "data": {
      "image/png": "[encoded data removed]",
      "text/plain": [
       "<matplotlib.figure.Figure at 0x1114c84e0>"
      ]
     },
     "metadata": {},
     "output_type": "display_data"
    }
   ],
   "source": [
    "change_step=1 # test data changes\n",
    "plot_histogram(\"speed values\", speed_values, change_step)"
   ]
  },
  {
   "cell_type": "markdown",
   "metadata": {},
   "source": [
    "# Select random data samples"
   ]
  },
  {
   "cell_type": "code",
   "execution_count": 6,
   "metadata": {
    "collapsed": false
   },
   "outputs": [],
   "source": [
    "image_center_values = get_image_center_values(data)"
   ]
  },
  {
   "cell_type": "code",
   "execution_count": 7,
   "metadata": {
    "collapsed": false
   },
   "outputs": [
    {
     "name": "stdout",
     "output_type": "stream",
     "text": [
      "1.438419\n",
      "IMG/center_2016_12_01_13_31_13_037.jpg\n"
     ]
    }
   ],
   "source": [
    "# not random, sanity check\n",
    "print(speed_values[3])\n",
    "print(image_center_values[3])"
   ]
  },
  {
   "cell_type": "code",
   "execution_count": 8,
   "metadata": {
    "collapsed": false
   },
   "outputs": [],
   "source": [
    "def crop_image(image_index):\n",
    "    print(\"my pick #\", image_index, speed_values[image_index])\n",
    "    image_name = image_center_values[image_index]\n",
    "\n",
    "    # Image read and display\n",
    "    import matplotlib.image as mpimg\n",
    "    from PIL import Image\n",
    "\n",
    "    image_original = Image.open(data_dir + image_name)\n",
    "    #image_original = mpimg.imread(data_dir + image_name) \n",
    "\n",
    "    from PIL import Image\n",
    "    print(image_original.size)\n",
    "\n",
    "    left = 0\n",
    "    upper = 70\n",
    "    right = 320\n",
    "    lower = 140 # 160 original\n",
    "    image_crop = image_original.crop((left, upper, right, lower))\n",
    "\n",
    "    #plt.imshow(image_crop)\n",
    "    #print(\"cropped image #\", image_index, image_name )\n",
    "    #plt.show()\n",
    "    return image_crop"
   ]
  },
  {
   "cell_type": "code",
   "execution_count": 9,
   "metadata": {
    "collapsed": false
   },
   "outputs": [],
   "source": [
    "import cv2\n",
    "def grayscale(image):\n",
    "    \"\"\"Applies the Grayscale transform\n",
    "    This will return an image with only one color channel\n",
    "    but NOTE: to see the returned image as grayscale\n",
    "    you should call plt.imshow(gray, cmap='gray')\"\"\"\n",
    "    return cv2.cvtColor(image, cv2.COLOR_RGB2GRAY)\n",
    "    # Or use BGR2GRAY if you read an image with cv2.imread()\n",
    "    # return cv2.cvtColor(img, cv2.COLOR_BGR2GRAY)"
   ]
  },
  {
   "cell_type": "code",
   "execution_count": 10,
   "metadata": {
    "collapsed": false
   },
   "outputs": [],
   "source": [
    "def gaussian_blur(image, kernel_size=5): # 5 \n",
    "    \"\"\"Applies a Gaussian Noise kernel\"\"\"\n",
    "    return cv2.GaussianBlur(image, (kernel_size, kernel_size), 0)"
   ]
  },
  {
   "cell_type": "code",
   "execution_count": 11,
   "metadata": {
    "collapsed": false
   },
   "outputs": [],
   "source": [
    "def canny(image, low_threshold=50, high_threshold=250): # homework low_threshold=20, high_threshold=130\n",
    "    \"\"\"Applies the Canny transform\"\"\"\n",
    "    return cv2.Canny(image, low_threshold, high_threshold)"
   ]
  },
  {
   "cell_type": "code",
   "execution_count": 12,
   "metadata": {
    "collapsed": false
   },
   "outputs": [],
   "source": [
    "def region_of_interest(img, vertices):\n",
    "    \"\"\"\n",
    "    Applies an image mask.\n",
    "    \n",
    "    Only keeps the region of the image defined by the polygon\n",
    "    formed from `vertices`. The rest of the image is set to black.\n",
    "    \"\"\"\n",
    "    #defining a blank mask to start with\n",
    "    mask = np.zeros_like(img)   \n",
    "    \n",
    "    #defining a 3 channel or 1 channel color to fill the mask with depending on the input image\n",
    "    if len(img.shape) > 2:\n",
    "        channel_count = img.shape[2]  # i.e. 3 or 4 depending on your image\n",
    "        ignore_mask_color = (255,) * channel_count\n",
    "    else:\n",
    "        ignore_mask_color = 255\n",
    "        \n",
    "    #filling pixels inside the polygon defined by \"vertices\" with the fill color    \n",
    "    cv2.fillPoly(mask, vertices, ignore_mask_color)\n",
    "    \n",
    "    #returning the image only where mask pixels are nonzero\n",
    "    masked_image = cv2.bitwise_and(img, mask)\n",
    "    return masked_image"
   ]
  },
  {
   "cell_type": "code",
   "execution_count": 13,
   "metadata": {
    "collapsed": false
   },
   "outputs": [],
   "source": [
    "def mask_vertices(image):\n",
    "    \"\"\"\n",
    "\n",
    "    \"\"\"\n",
    "    height = image.shape[0]\n",
    "    width = image.shape[1]\n",
    "\n",
    "    top_left = (width*0.3, 0)\n",
    "    top_right = (width-width*0.3, 0)\n",
    "     \n",
    "    mid_left_high = (0, height*0.2) \n",
    "    mid_right_high = (width, height*0.2)  \n",
    "    \n",
    "    mid_left_low = (0, height*0.9) \n",
    "    mid_right_low = (width, height*0.9)\n",
    "    \n",
    "    # on the bottom start high because of the dashboard\n",
    "    bottom_center_left = (width*0.27, height*0.95) \n",
    "    bottom_center_right = (width-width*0.27, height*0.95) \n",
    "    \n",
    "    # we are NOT following a center line in this code, so cut it out\n",
    "    bottom_center = (width/2, height*0.55) \n",
    "\n",
    "\n",
    "    # add points clockwise\n",
    "    vertices = np.array([[\n",
    "        top_left, \n",
    "        top_right, \n",
    "        mid_right_high, mid_right_low,\n",
    "        bottom_center_right,\n",
    "        bottom_center, bottom_center_left,\n",
    "        mid_left_low, \n",
    "        mid_left_high \n",
    "    ]], dtype=np.int32)\n",
    "    return vertices"
   ]
  },
  {
   "cell_type": "code",
   "execution_count": 14,
   "metadata": {
    "collapsed": false
   },
   "outputs": [],
   "source": [
    "import PIL\n",
    "import numpy\n",
    "from PIL import Image\n",
    "\n",
    "def resize_image(numpy_array_image, new_height):\n",
    "    # convert nympy array image to PIL.Image\n",
    "    image = Image.fromarray(numpy.uint8(numpy_array_image))\n",
    "\n",
    "    #print(image.size)\n",
    "    old_width = float(image.size[0])\n",
    "    old_height = float(image.size[1])\n",
    "\n",
    "    ratio = float( new_height / old_height)\n",
    "    #print(\"ratio\", ratio)\n",
    "\n",
    "    new_width = int(old_width * ratio)\n",
    "    image = image.resize((new_width, new_height), PIL.Image.ANTIALIAS)\n",
    "    #img.save(‘resized_image.jpg’)\n",
    "    #plt.imshow(img, cmap='gray')\n",
    "    #plt.show()\n",
    "    #print(img.size)"
   ]
  },
  {
   "cell_type": "code",
   "execution_count": 15,
   "metadata": {
    "collapsed": false
   },
   "outputs": [],
   "source": [
    "def preprocessing_pipline(image_index, should_plot=False):\n",
    "    image_crop = array(crop_image(image_index)) \n",
    "    # convert output to numpy array\n",
    "    if should_plot:\n",
    "        plt.imshow(image_crop)\n",
    "        plt.show()\n",
    "\n",
    "    image_mask = region_of_interest(\n",
    "        image_crop, \n",
    "        mask_vertices(image_crop))\n",
    "    if should_plot:\n",
    "        plt.imshow(image_mask, cmap='gray')\n",
    "        plt.show()\n",
    "    \n",
    "    image_gray = grayscale(image_mask)\n",
    "    \n",
    "    if should_plot:\n",
    "        plt.imshow(image_gray, cmap='gray')\n",
    "        plt.show()\n",
    "\n",
    "    image_gaussian = gaussian_blur(image_gray, kernel_size=5)\n",
    "    if should_plot:\n",
    "        plt.imshow(image_gaussian, cmap='gray')\n",
    "        plt.show()\n",
    "    \n",
    "    image_canny = canny(image_gaussian, low_threshold=100, high_threshold=190)\n",
    "    if should_plot:\n",
    "        plt.imshow(image_canny, cmap='gray')\n",
    "        plt.show()\n",
    "    \n",
    "    image_resized = resize_image(image_canny, new_height=28)\n",
    "    return image_resized\n",
    "    \n",
    "\n"
   ]
  },
  {
   "cell_type": "code",
   "execution_count": 16,
   "metadata": {
    "collapsed": false
   },
   "outputs": [
    {
     "name": "stdout",
     "output_type": "stream",
     "text": [
      "my pick # 6563 30.18661\n",
      "(320, 160)\n",
      "cropped image # 6563 IMG/center_2016_12_01_13_44_12_451.jpg\n"
     ]
    },
    {
     "data": {
      "image/png": "[encoded data removed]",
      "text/plain": [
       "<matplotlib.figure.Figure at 0x114de11d0>"
      ]
     },
     "metadata": {},
     "output_type": "display_data"
    }
   ],
   "source": [
    "from numpy import array\n",
    "import random\n",
    "image_index = random.randrange( len(speed_values))\n",
    "image = preprocessing_pipline(image_index, should_plot=False)"
   ]
  },
  {
   "cell_type": "code",
   "execution_count": null,
   "metadata": {
    "collapsed": true
   },
   "outputs": [],
   "source": []
  }
 ],
 "metadata": {
  "kernelspec": {
   "display_name": "conda env tensorflow_cpu",
   "language": "python",
   "name": "tensorflow_cpu"
  },
  "language_info": {
   "codemirror_mode": {
    "name": "ipython",
    "version": 3
   },
   "file_extension": ".py",
   "mimetype": "text/x-python",
   "name": "python",
   "nbconvert_exporter": "python",
   "pygments_lexer": "ipython3",
   "version": "3.5.2"
  }
 },
 "nbformat": 4,
 "nbformat_minor": 2
}
