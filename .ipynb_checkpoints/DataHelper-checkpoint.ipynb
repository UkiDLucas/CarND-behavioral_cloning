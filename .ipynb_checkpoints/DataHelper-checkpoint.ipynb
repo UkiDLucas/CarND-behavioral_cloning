{
 "cells": [
  {
   "cell_type": "code",
   "execution_count": 1,
   "metadata": {
    "collapsed": false
   },
   "outputs": [
    {
     "data": {
      "text/plain": [
       "'\\nWrapper methods around \"import csv\" that\\nare very specific to p3.\\nCreated by Uki D. Lucas on Feb. 4, 2017\\n'"
      ]
     },
     "execution_count": 1,
     "metadata": {},
     "output_type": "execute_result"
    }
   ],
   "source": [
    "\"\"\"\n",
    "Wrapper methods around \"import csv\" that\n",
    "are very specific to p3.\n",
    "Created by Uki D. Lucas on Feb. 4, 2017\n",
    "\"\"\""
   ]
  },
  {
   "cell_type": "code",
   "execution_count": 2,
   "metadata": {
    "collapsed": false
   },
   "outputs": [],
   "source": [
    "# snapping actual values to given labels\n",
    "\n",
    "def find_nearest(array,value):\n",
    "    idx = (np.abs(array-value)).argmin()\n",
    "    return array[idx]\n",
    "\n",
    "# TEST\n",
    "#assert (find_nearest(steering_labels, -0.951) == -1.00),\"method find_nearest() has problem\""
   ]
  },
  {
   "cell_type": "code",
   "execution_count": 3,
   "metadata": {
    "collapsed": false
   },
   "outputs": [],
   "source": [
    "\n",
    "import numpy as np\n",
    "\n",
    "# TODO implement batch_from, batch_to - I did not need it for 8037 rows\n",
    "# TODO implement has_header_row\n",
    "def read_csv(file_path):\n",
    "    \"\"\"\n",
    "    Usage:\n",
    "    headers, data = read_csv(file_path)\n",
    "    Parameter: \n",
    "    - file_path: can be relative path \"../../../DATA/stuff.csv\"\n",
    "    Returns:\n",
    "    - headers: array of strings e.g. ['steering', 'throttle', 'brake', 'speed']\n",
    "    - data: array of strings, you have to convert values to int, float yourself\n",
    "   test_read_csv()\n",
    "    \"\"\"\n",
    "    import csv\n",
    "    # Opening spreadsheet to read in TEXT mode: 'rt'\n",
    "    with open(file_path, 'rt') as csvfile:\n",
    "        # Most common format of CSV, TODO improve\n",
    "        payload = csv.reader(csvfile, delimiter=',', quotechar='\"') \n",
    "        row_counter = 0\n",
    "        headers = []\n",
    "        data = []\n",
    "        for row in payload:\n",
    "            row_counter = row_counter + 1\n",
    "            \n",
    "            if row_counter == 1:\n",
    "                headers = row\n",
    "                # print (type(row))\n",
    "                # print ( row)\n",
    "                # print ('\\t '.join(row))\n",
    "            elif 1 < row_counter < 3:\n",
    "                # print (type(row))\n",
    "                # print ( row)\n",
    "                # print ('\\t '.join(row))\n",
    "                data.append(row)\n",
    "            else:\n",
    "                data.append(row)\n",
    "        print(\"imported rows\", row_counter)\n",
    "        # I am returning data as numpy array instead of list\n",
    "        # because it is handier to use it.\n",
    "        return headers, np.array(data)\n",
    "    \n",
    "    \n",
    "    \n",
    "def test_read_csv():\n",
    "    \"\"\"\n",
    "    This test is specific to Uki's enviroment.\n",
    "    \"\"\"\n",
    "    data_dir = \"../../../DATA/behavioral_cloning_data/\"\n",
    "    headers, data = read_csv(file_path = data_dir + 'driving_log.csv')\n",
    "    print(\"headers \\n\",headers)\n",
    "    print(\"3rd row of data \\n\",data[2:3])\n",
    "# test_read_csv()"
   ]
  },
  {
   "cell_type": "code",
   "execution_count": 4,
   "metadata": {
    "collapsed": false
   },
   "outputs": [],
   "source": [
    "import numpy as np\n",
    "import math\n",
    "    \n",
    "def split_random(matrix, percent_train=70, percent_test=15):\n",
    "    \"\"\"\n",
    "    Splits matrix data into randomly ordered sets \n",
    "    grouped by provided percentages.\n",
    "    \n",
    "    Usage:\n",
    "    rows = 100\n",
    "    columns = 2\n",
    "    matrix = np.random.rand(rows, columns)\n",
    "    training, testing, validation = \\\n",
    "    split_random(matrix, percent_train=80, percent_test=10)\n",
    "    \n",
    "    percent_validation 10\n",
    "    training (80, 2)\n",
    "    testing (10, 2)\n",
    "    validation (10, 2)\n",
    "    \n",
    "    Returns:\n",
    "    - training_data: percentage_train e.g. 70%\n",
    "    - testing_data: percent_test e.g. 15%\n",
    "    - validation_data: reminder from 100% e.g. 15%\n",
    "    Created by Uki D. Lucas on Feb. 4, 2017\n",
    "    \"\"\"\n",
    "    #print(matrix)  \n",
    "    row_count = matrix.shape[0]\n",
    "    np.random.shuffle(matrix)\n",
    "    \n",
    "    end_training = int(math.ceil(row_count*percent_train/100))    \n",
    "    end_testing = end_training + int(math.ceil((row_count * percent_test/100)))\n",
    "    \n",
    "    percent_validation = 100 - percent_train - percent_test\n",
    "    \n",
    "    training = matrix[:end_training]\n",
    "    testing = []\n",
    "    validation = []\n",
    "    \n",
    "    if percent_validation < 0:\n",
    "        print(\"Make sure that the provided sum of \" + \\\n",
    "        \"training and testing percentages is equal, \" + \\\n",
    "        \"or less than 100%.\")\n",
    "        \n",
    "        testing = matrix[end_training:]\n",
    "    else:\n",
    "        print(\"percent_validation\", percent_validation)\n",
    "        \n",
    "        testing = matrix[end_training:end_testing]\n",
    "        validation = matrix[end_testing:]\n",
    "    \n",
    "    return training, testing, validation\n",
    "\n",
    "# TEST:\n",
    "\n",
    "def test_split_random():\n",
    "    rows = 8037\n",
    "    columns = 2\n",
    "    matrix = np.random.rand(rows, columns)\n",
    "    training, testing, validation = split_random(matrix, percent_train=80, percent_test=20) \n",
    "\n",
    "    print(\"training\",training.shape)\n",
    "    print(\"testing\",testing.shape)\n",
    "    print(\"validation\",validation.shape)\n",
    "    \n",
    "    print(\"sum\",training.shape[0] + testing.shape[0])\n",
    "    \n",
    "    #print(split_random.__doc__)\n",
    "# test_split_random()"
   ]
  },
  {
   "cell_type": "code",
   "execution_count": 5,
   "metadata": {
    "collapsed": true
   },
   "outputs": [],
   "source": [
    "def get_image_center_values(matrix):\n",
    "    data = [row[0] for row in matrix]\n",
    "    return np.array(data)\n",
    "\n",
    "def get_image_left_values(matrix):\n",
    "    data = [row[1] for row in matrix]\n",
    "    return np.array(data)\n",
    "\n",
    "def get_image_right_values(matrix):\n",
    "    data = [row[2] for row in matrix]\n",
    "    return np.array(data)\n",
    "\n",
    "def get_steering_values(matrix):\n",
    "    data = [float(row[3]) for row in matrix]\n",
    "    return np.array(data)\n",
    "\n",
    "def get_throttle_values(matrix):\n",
    "    data = [float(row[4]) for row in matrix]\n",
    "    return np.array(data)\n",
    "\n",
    "def get_brake_values(matrix):\n",
    "    data = [float(row[5]) for row in matrix]\n",
    "    return np.array(data)\n",
    "\n",
    "def get_speed_values(matrix):\n",
    "    data = [float(row[6]) for row in matrix]\n",
    "    return np.array(data)"
   ]
  },
  {
   "cell_type": "code",
   "execution_count": 7,
   "metadata": {
    "collapsed": true
   },
   "outputs": [],
   "source": [
    "def read_image(image_path):\n",
    "    import cv2\n",
    "    # cv2.IMREAD_COLOR \n",
    "    # cv2.COLOR_BGR2GRAY \n",
    "    image = cv2.imread(image_path, cv2.IMREAD_COLOR)\n",
    "    #print(\"image shape\", image.shape)\n",
    "    #plt.imshow(image, cmap='gray')\n",
    "    #plt.show()\n",
    "    return np.array(image)"
   ]
  },
  {
   "cell_type": "code",
   "execution_count": null,
   "metadata": {
    "collapsed": true
   },
   "outputs": [],
   "source": []
  }
 ],
 "metadata": {
  "kernelspec": {
   "display_name": "conda env tensorflow_cpu",
   "language": "python",
   "name": "tensorflow_cpu"
  },
  "language_info": {
   "codemirror_mode": {
    "name": "ipython",
    "version": 3
   },
   "file_extension": ".py",
   "mimetype": "text/x-python",
   "name": "python",
   "nbconvert_exporter": "python",
   "pygments_lexer": "ipython3",
   "version": "3.5.2"
  }
 },
 "nbformat": 4,
 "nbformat_minor": 2
}
